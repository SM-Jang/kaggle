{
 "cells": [
  {
   "cell_type": "code",
   "execution_count": 1,
   "id": "bc8d2765-8eae-4c2b-a192-32a1e179684a",
   "metadata": {},
   "outputs": [],
   "source": [
    "# NA sample target 비율 확인\n",
    "# target=1 오버 샘플링\n",
    "# light gbm cv=5로 성능 빠르게 확인\n",
    "# 피드백"
   ]
  },
  {
   "cell_type": "code",
   "execution_count": 33,
   "id": "0c2f3d91-ea68-457a-97fd-9d19dac63208",
   "metadata": {},
   "outputs": [],
   "source": [
    "import pandas as pd\n",
    "import numpy as np\n",
    "import matplotlib.pyplot as plt\n",
    "import seaborn as sns\n",
    "\n",
    "import warnings\n",
    "warnings.filterwarnings('ignore')"
   ]
  },
  {
   "cell_type": "code",
   "execution_count": 34,
   "id": "d5cf138e-22a0-4a78-8f2e-e094ffd8304e",
   "metadata": {},
   "outputs": [
    {
     "data": {
      "text/html": [
       "<div>\n",
       "<style scoped>\n",
       "    .dataframe tbody tr th:only-of-type {\n",
       "        vertical-align: middle;\n",
       "    }\n",
       "\n",
       "    .dataframe tbody tr th {\n",
       "        vertical-align: top;\n",
       "    }\n",
       "\n",
       "    .dataframe thead th {\n",
       "        text-align: right;\n",
       "    }\n",
       "</style>\n",
       "<table border=\"1\" class=\"dataframe\">\n",
       "  <thead>\n",
       "    <tr style=\"text-align: right;\">\n",
       "      <th></th>\n",
       "      <th>age</th>\n",
       "      <th>workclass</th>\n",
       "      <th>fnlwgt</th>\n",
       "      <th>education</th>\n",
       "      <th>education.num</th>\n",
       "      <th>marital.status</th>\n",
       "      <th>occupation</th>\n",
       "      <th>relationship</th>\n",
       "      <th>race</th>\n",
       "      <th>sex</th>\n",
       "      <th>capital.gain</th>\n",
       "      <th>capital.loss</th>\n",
       "      <th>hours.per.week</th>\n",
       "      <th>native.country</th>\n",
       "      <th>target</th>\n",
       "    </tr>\n",
       "    <tr>\n",
       "      <th>id</th>\n",
       "      <th></th>\n",
       "      <th></th>\n",
       "      <th></th>\n",
       "      <th></th>\n",
       "      <th></th>\n",
       "      <th></th>\n",
       "      <th></th>\n",
       "      <th></th>\n",
       "      <th></th>\n",
       "      <th></th>\n",
       "      <th></th>\n",
       "      <th></th>\n",
       "      <th></th>\n",
       "      <th></th>\n",
       "      <th></th>\n",
       "    </tr>\n",
       "  </thead>\n",
       "  <tbody>\n",
       "    <tr>\n",
       "      <th>0</th>\n",
       "      <td>32</td>\n",
       "      <td>Private</td>\n",
       "      <td>309513</td>\n",
       "      <td>Assoc-acdm</td>\n",
       "      <td>12</td>\n",
       "      <td>Married-civ-spouse</td>\n",
       "      <td>Craft-repair</td>\n",
       "      <td>Husband</td>\n",
       "      <td>White</td>\n",
       "      <td>Male</td>\n",
       "      <td>0</td>\n",
       "      <td>0</td>\n",
       "      <td>40</td>\n",
       "      <td>United-States</td>\n",
       "      <td>0</td>\n",
       "    </tr>\n",
       "    <tr>\n",
       "      <th>1</th>\n",
       "      <td>33</td>\n",
       "      <td>Private</td>\n",
       "      <td>205469</td>\n",
       "      <td>Some-college</td>\n",
       "      <td>10</td>\n",
       "      <td>Married-civ-spouse</td>\n",
       "      <td>Exec-managerial</td>\n",
       "      <td>Husband</td>\n",
       "      <td>White</td>\n",
       "      <td>Male</td>\n",
       "      <td>0</td>\n",
       "      <td>0</td>\n",
       "      <td>40</td>\n",
       "      <td>United-States</td>\n",
       "      <td>1</td>\n",
       "    </tr>\n",
       "    <tr>\n",
       "      <th>2</th>\n",
       "      <td>46</td>\n",
       "      <td>Private</td>\n",
       "      <td>149949</td>\n",
       "      <td>Some-college</td>\n",
       "      <td>10</td>\n",
       "      <td>Married-civ-spouse</td>\n",
       "      <td>Craft-repair</td>\n",
       "      <td>Husband</td>\n",
       "      <td>White</td>\n",
       "      <td>Male</td>\n",
       "      <td>0</td>\n",
       "      <td>0</td>\n",
       "      <td>40</td>\n",
       "      <td>United-States</td>\n",
       "      <td>0</td>\n",
       "    </tr>\n",
       "    <tr>\n",
       "      <th>3</th>\n",
       "      <td>23</td>\n",
       "      <td>Private</td>\n",
       "      <td>193090</td>\n",
       "      <td>Bachelors</td>\n",
       "      <td>13</td>\n",
       "      <td>Never-married</td>\n",
       "      <td>Adm-clerical</td>\n",
       "      <td>Own-child</td>\n",
       "      <td>White</td>\n",
       "      <td>Female</td>\n",
       "      <td>0</td>\n",
       "      <td>0</td>\n",
       "      <td>30</td>\n",
       "      <td>United-States</td>\n",
       "      <td>0</td>\n",
       "    </tr>\n",
       "    <tr>\n",
       "      <th>4</th>\n",
       "      <td>55</td>\n",
       "      <td>Private</td>\n",
       "      <td>60193</td>\n",
       "      <td>HS-grad</td>\n",
       "      <td>9</td>\n",
       "      <td>Divorced</td>\n",
       "      <td>Adm-clerical</td>\n",
       "      <td>Not-in-family</td>\n",
       "      <td>White</td>\n",
       "      <td>Female</td>\n",
       "      <td>0</td>\n",
       "      <td>0</td>\n",
       "      <td>40</td>\n",
       "      <td>United-States</td>\n",
       "      <td>0</td>\n",
       "    </tr>\n",
       "  </tbody>\n",
       "</table>\n",
       "</div>"
      ],
      "text/plain": [
       "    age workclass  fnlwgt     education  education.num      marital.status  \\\n",
       "id                                                                           \n",
       "0    32   Private  309513    Assoc-acdm             12  Married-civ-spouse   \n",
       "1    33   Private  205469  Some-college             10  Married-civ-spouse   \n",
       "2    46   Private  149949  Some-college             10  Married-civ-spouse   \n",
       "3    23   Private  193090     Bachelors             13       Never-married   \n",
       "4    55   Private   60193       HS-grad              9            Divorced   \n",
       "\n",
       "         occupation   relationship   race     sex  capital.gain  capital.loss  \\\n",
       "id                                                                              \n",
       "0      Craft-repair        Husband  White    Male             0             0   \n",
       "1   Exec-managerial        Husband  White    Male             0             0   \n",
       "2      Craft-repair        Husband  White    Male             0             0   \n",
       "3      Adm-clerical      Own-child  White  Female             0             0   \n",
       "4      Adm-clerical  Not-in-family  White  Female             0             0   \n",
       "\n",
       "    hours.per.week native.country  target  \n",
       "id                                         \n",
       "0               40  United-States       0  \n",
       "1               40  United-States       1  \n",
       "2               40  United-States       0  \n",
       "3               30  United-States       0  \n",
       "4               40  United-States       0  "
      ]
     },
     "execution_count": 34,
     "metadata": {},
     "output_type": "execute_result"
    }
   ],
   "source": [
    "data = pd.read_csv('dataset/train.csv', index_col=0)\n",
    "data.head()"
   ]
  },
  {
   "cell_type": "code",
   "execution_count": 35,
   "id": "1768c0a7-6680-4c4c-bff8-11502f61326f",
   "metadata": {},
   "outputs": [
    {
     "data": {
      "text/plain": [
       "age                  0\n",
       "workclass         1836\n",
       "fnlwgt               0\n",
       "education            0\n",
       "education.num        0\n",
       "marital.status       0\n",
       "occupation        1843\n",
       "relationship         0\n",
       "race                 0\n",
       "sex                  0\n",
       "capital.gain         0\n",
       "capital.loss         0\n",
       "hours.per.week       0\n",
       "native.country     583\n",
       "target               0\n",
       "dtype: int64"
      ]
     },
     "execution_count": 35,
     "metadata": {},
     "output_type": "execute_result"
    }
   ],
   "source": [
    "data.isnull().sum()"
   ]
  },
  {
   "cell_type": "code",
   "execution_count": 36,
   "id": "be3dcb80-09f6-4f1a-b037-8ac7f65a3904",
   "metadata": {},
   "outputs": [
    {
     "name": "stdout",
     "output_type": "stream",
     "text": [
      "1836 1843 583\n"
     ]
    },
    {
     "data": {
      "text/plain": [
       "27"
      ]
     },
     "execution_count": 36,
     "metadata": {},
     "output_type": "execute_result"
    }
   ],
   "source": [
    "from collections import Counter\n",
    "# index 찾기\n",
    "mis_var_features = ['workclass', 'occupation', 'native.country']\n",
    "def findMissIndex(df, mis_var_feature):\n",
    "    index = data[data[mis_var_feature].isnull()].index\n",
    "    return index\n",
    "\n",
    "mis_work_indices = findMissIndex(data, mis_var_features[0])\n",
    "mis_occ_indices = findMissIndex(data, mis_var_features[1])\n",
    "mis_con_indices = findMissIndex(data, mis_var_features[2])\n",
    "print(len(mis_work_indices), len(mis_occ_indices), len(mis_con_indices))\n",
    "len(set(mis_work_indices).intersection(set(mis_occ_indices)) )\n",
    "len(set(mis_work_indices).intersection(set(mis_con_indices)) )\n",
    "\n",
    "# 1. null sample에 대해 workclass와 occupation은 모두 겹침(제거!)\n",
    "# 2. null sample에 대해 workclass와 native.country는 27개만 겹침\n",
    "# 3. occupation index를 모두 제거하고 native.country는 따로 처리하자"
   ]
  },
  {
   "cell_type": "code",
   "execution_count": 38,
   "id": "464d6c02-5f6c-4085-bb64-71bbc5c1cbb0",
   "metadata": {},
   "outputs": [
    {
     "data": {
      "image/png": "[encoded data removed]",
      "text/plain": [
       "<Figure size 864x576 with 3 Axes>"
      ]
     },
     "metadata": {
      "needs_background": "light"
     },
     "output_type": "display_data"
    }
   ],
   "source": [
    "# 제거할 index들의 target 분포를 확인하자\n",
    "f, ax = plt.subplots(1,3,figsize=(12,8))\n",
    "sns.countplot(data['target'], ax=ax[0])\n",
    "ax[0].set(title='FULL target')\n",
    "ax[0].set_ylim(0, 14000)\n",
    "sns.countplot(data.loc[mis_occ_indices]['target'], ax=ax[1])\n",
    "ax[1].set(title='DROP target')\n",
    "\n",
    "# 제거 후 target 분포\n",
    "data.drop(mis_work_indices, axis=0, inplace=True)\n",
    "\n",
    "\n",
    "sns.countplot(data['target'], ax=ax[2])\n",
    "ax[2].set_ylim(0, 14000)\n",
    "ax[2].set(title='Droped target')\n",
    "\n",
    "plt.show()"
   ]
  },
  {
   "cell_type": "code",
   "execution_count": 43,
   "id": "11d896fd-28f6-4577-adf7-78d0fc9b4189",
   "metadata": {},
   "outputs": [
    {
     "data": {
      "text/plain": [
       "age               0\n",
       "workclass         0\n",
       "fnlwgt            0\n",
       "education         0\n",
       "education.num     0\n",
       "marital.status    0\n",
       "occupation        7\n",
       "relationship      0\n",
       "race              0\n",
       "sex               0\n",
       "capital.gain      0\n",
       "capital.loss      0\n",
       "hours.per.week    0\n",
       "native.country    0\n",
       "target            0\n",
       "dtype: int64"
      ]
     },
     "execution_count": 43,
     "metadata": {},
     "output_type": "execute_result"
    }
   ],
   "source": [
    "data['native.country'].fillna('United-States', inplace=True)\n",
    "data.isnull().sum()"
   ]
  },
  {
   "cell_type": "code",
   "execution_count": 46,
   "id": "237b8702-ae5b-49c0-82c7-2646f77afb1a",
   "metadata": {},
   "outputs": [
    {
     "name": "stdout",
     "output_type": "stream",
     "text": [
      "['workclass', 'education', 'marital.status', 'occupation', 'relationship', 'race', 'sex', 'native.country'] are encoded\n"
     ]
    }
   ],
   "source": [
    "def label_encoder(df, categorical_columns=None):\n",
    "    if not categorical_columns:\n",
    "        categorical_columns = [col for col in df.columns if df[col].dtype=='object']\n",
    "    for col in categorical_columns:\n",
    "        df[col], uniques = pd.factorize(df[col])\n",
    "    return df, categorical_columns\n",
    "    \n",
    "train, categorical_features = label_encoder(data)\n",
    "# test, categorical_features = label_encoder(test)\n",
    "print(f'{categorical_features} are encoded')"
   ]
  },
  {
   "cell_type": "code",
   "execution_count": 47,
   "id": "483a38f4-8e90-4284-8013-89eb4057354a",
   "metadata": {},
   "outputs": [
    {
     "name": "stdout",
     "output_type": "stream",
     "text": [
      "(15644, 14) (15644,)\n"
     ]
    }
   ],
   "source": [
    "from lightgbm import LGBMClassifier\n",
    "\n",
    "model = LGBMClassifier(random_state=0)\n",
    "\n",
    "label = 'target'\n",
    "y_train = train[label]\n",
    "X_train = train.drop(label, axis=1)\n",
    "\n",
    "print(X_train.shape, y_train.shape)"
   ]
  },
  {
   "cell_type": "code",
   "execution_count": 60,
   "id": "e7a0a853-ad01-4e9c-b3b3-81753f621185",
   "metadata": {},
   "outputs": [
    {
     "name": "stdout",
     "output_type": "stream",
     "text": [
      "### 5 fold CV of LGBM ###\n"
     ]
    }
   ],
   "source": [
    "from sklearn.model_selection import KFold, cross_val_score, cross_val_predict\n",
    "kfold = StratifiedGroupKFold(n_splits=5, shuffle=False)\n",
    "\n",
    "print(f'### 5 fold CV of LGBM ###')\n",
    "cv_result = cross_val_score(model, X_train, y_train, \n",
    "                            cv=kfold, scoring='accuracy', n_jobs=-1)\n",
    "# cross_val_predict(model, X_train, y_train,\n",
    "#                  cv=kfold, n_jobs=-1)"
   ]
  },
  {
   "cell_type": "code",
   "execution_count": 62,
   "id": "bbe0d9e8-529a-46c4-9f3e-3557e15d0441",
   "metadata": {},
   "outputs": [
    {
     "data": {
      "text/plain": [
       "(15644, 14)"
      ]
     },
     "execution_count": 62,
     "metadata": {},
     "output_type": "execute_result"
    }
   ],
   "source": [
    "X_train.shape"
   ]
  },
  {
   "cell_type": "code",
   "execution_count": null,
   "id": "291497ec-cef8-445c-a467-b4fc9b920ba9",
   "metadata": {},
   "outputs": [],
   "source": []
  }
 ],
 "metadata": {
  "kernelspec": {
   "display_name": "Python 3 (ipykernel)",
   "language": "python",
   "name": "python3"
  },
  "language_info": {
   "codemirror_mode": {
    "name": "ipython",
    "version": 3
   },
   "file_extension": ".py",
   "mimetype": "text/x-python",
   "name": "python",
   "nbconvert_exporter": "python",
   "pygments_lexer": "ipython3",
   "version": "3.9.7"
  }
 },
 "nbformat": 4,
 "nbformat_minor": 5
}
