{
 "cells": [
  {
   "cell_type": "markdown",
   "id": "bc3cd933-d973-450d-b398-849e35558cb0",
   "metadata": {},
   "source": [
    "1. 기본적인 feature engineering을 통한 데이터를 이용하여 ml model에 적용하였을 때, 성능을 확인한다(base line)\n",
    "\n",
    "2. 추후에 eda를 통한 새로운 feature를 추가하면 어떻게 변하는지 살펴보자\n",
    "\n",
    "3. 2의 결과 성능이 향상되면 hyperparameter tuning까지 기대해볼 수 있다\n",
    "\n",
    "4. 최종적으로 Stack과 Bagging으로 성능을 끌어올려보자"
   ]
  },
  {
   "cell_type": "code",
   "execution_count": 1,
   "id": "0f3c43d9-90c7-4629-a8e7-1bd526685ffa",
   "metadata": {},
   "outputs": [],
   "source": [
    "from bayes_opt import BayesianOptimization"
   ]
  },
  {
   "cell_type": "code",
   "execution_count": 2,
   "id": "01c551b1-b604-4115-af80-ff07d1d1e76d",
   "metadata": {},
   "outputs": [
    {
     "data": {
      "text/plain": [
       "((17480, 15), (15081, 14))"
      ]
     },
     "execution_count": 2,
     "metadata": {},
     "output_type": "execute_result"
    }
   ],
   "source": [
    "import pandas as pd\n",
    "import warnings \n",
    "warnings.filterwarnings('ignore')\n",
    "\n",
    "train = pd.read_csv('dataset/train.csv', index_col=0)\n",
    "test = pd.read_csv('dataset/test.csv', index_col=0)\n",
    "train.shape, test.shape"
   ]
  },
  {
   "cell_type": "markdown",
   "id": "9853d136-5905-4ee0-81c1-c772659d30c8",
   "metadata": {},
   "source": [
    "# 1. Basic feature engineering"
   ]
  },
  {
   "cell_type": "code",
   "execution_count": 3,
   "id": "eb6f7678-b9e7-48cf-9edf-e7efa63155ec",
   "metadata": {},
   "outputs": [
    {
     "data": {
      "text/plain": [
       "'target'"
      ]
     },
     "execution_count": 3,
     "metadata": {},
     "output_type": "execute_result"
    }
   ],
   "source": [
    "label = set(train.columns) - set(test.columns)\n",
    "label = ' '.join(label)\n",
    "label"
   ]
  },
  {
   "cell_type": "code",
   "execution_count": 4,
   "id": "d56a4cc1-b330-48c9-b40b-7ef66410d18f",
   "metadata": {},
   "outputs": [
    {
     "name": "stdout",
     "output_type": "stream",
     "text": [
      "workclass have 1836 na values\n",
      "occupation have 1843 na values\n",
      "native.country have 583 na values\n"
     ]
    }
   ],
   "source": [
    "def nullCheck(df):\n",
    "    \"\"\" check df and return columns having null value \"\"\"\n",
    "    null_columns = []\n",
    "    for col in df.columns:\n",
    "        n_null_values = df[col].isnull().sum()\n",
    "        isNull = True if n_null_values>0 else False\n",
    "        if isNull:\n",
    "            print(f'{col} have {n_null_values} na values')\n",
    "            null_columns.append([col, df[col].dtype])\n",
    "    if len(null_columns) == 0:\n",
    "        print('no NA')\n",
    "    return null_columns\n",
    "\n",
    "null_cols = nullCheck(train)"
   ]
  },
  {
   "cell_type": "code",
   "execution_count": 5,
   "id": "001003b0-0441-494f-874f-36ab103d4d24",
   "metadata": {},
   "outputs": [
    {
     "name": "stdout",
     "output_type": "stream",
     "text": [
      "workclass has 10.50%\n",
      "['Private' 'State-gov' 'Local-gov' 'Self-emp-not-inc' 'Self-emp-inc'\n",
      " 'Federal-gov' 'Without-pay' nan 'Never-worked']\n",
      "occupation has 10.54%\n",
      "['Craft-repair' 'Exec-managerial' 'Adm-clerical' 'Prof-specialty'\n",
      " 'Machine-op-inspct' 'Other-service' 'Sales' 'Farming-fishing'\n",
      " 'Transport-moving' 'Handlers-cleaners' 'Tech-support' 'Protective-serv'\n",
      " 'Priv-house-serv' 'Armed-Forces' nan]\n",
      "native.country has 3.34%\n",
      "['United-States' 'Poland' 'Mexico' 'Ireland' 'Guatemala'\n",
      " 'Dominican-Republic' 'Greece' 'El-Salvador' 'Portugal' 'Canada'\n",
      " 'Philippines' 'India' 'Italy' 'England' 'Jamaica' 'Columbia' 'South'\n",
      " 'Vietnam' 'Cuba' 'Laos' 'Hong' 'Haiti' 'Germany' 'Yugoslavia' 'Ecuador'\n",
      " 'France' 'Puerto-Rico' 'Outlying-US(Guam-USVI-etc)' 'Taiwan' 'China'\n",
      " 'Japan' 'Honduras' 'Peru' 'Nicaragua' 'Hungary' 'Cambodia' 'Iran'\n",
      " 'Trinadad&Tobago' 'Thailand' 'Scotland' 'Holand-Netherlands' nan]\n"
     ]
    }
   ],
   "source": [
    "for col, _ in null_cols:\n",
    "    print(f'{col} has {train[col].isnull().sum()/len(train[col])*100:.2f}%')\n",
    "    print(train[col].unique())"
   ]
  },
  {
   "cell_type": "code",
   "execution_count": 6,
   "id": "ee5ec2c2-7234-4eca-a34b-7a6955724867",
   "metadata": {},
   "outputs": [],
   "source": [
    "# def dropCols(df, columns):\n",
    "#     cols_to_drop = [col[0] for col in columns]\n",
    "#     df.drop(cols_to_drop, axis=1, inplace=True)\n",
    "#     return df\n",
    "# train = dropCols(train, null_cols)\n",
    "# test = dropCols(test, null_cols)\n",
    "# train.shape, test.shape"
   ]
  },
  {
   "cell_type": "code",
   "execution_count": 7,
   "id": "18fad4e4-baed-48b2-bc14-b3152aa63f33",
   "metadata": {},
   "outputs": [
    {
     "data": {
      "text/plain": [
       "(15644, 15)"
      ]
     },
     "execution_count": 7,
     "metadata": {},
     "output_type": "execute_result"
    }
   ],
   "source": [
    "from collections import Counter\n",
    "index = [] \n",
    "mis_var_col = [col[0] for col in null_cols]\n",
    "index.extend(train[train[mis_var_col[0]].isnull()].index)\n",
    "index.extend(train[train[mis_var_col[1]].isnull()].index)\n",
    "index.extend(train[train[mis_var_col[2]].isnull()].index)\n",
    "\n",
    "mis_index = []\n",
    "for k, v in Counter(index).items():\n",
    "    if v>=2: mis_index.append(k)\n",
    "\n",
    "len(mis_index)\n",
    "del index\n",
    "train.drop(mis_index, axis=0, inplace=True)\n",
    "train.shape"
   ]
  },
  {
   "cell_type": "code",
   "execution_count": 8,
   "id": "17c2a3c4-5538-4e3d-9cd1-a59343461e09",
   "metadata": {},
   "outputs": [],
   "source": [
    "train['occupation'].fillna('Exec-managerial', inplace=True)"
   ]
  },
  {
   "cell_type": "code",
   "execution_count": 9,
   "id": "d4195a3d-2579-4d58-ae67-613dd2097753",
   "metadata": {},
   "outputs": [],
   "source": [
    "train['native.country'].fillna('United-States', inplace=True)"
   ]
  },
  {
   "cell_type": "code",
   "execution_count": 10,
   "id": "9aea3a07-3cf5-40e7-b035-c26aa94e252b",
   "metadata": {},
   "outputs": [
    {
     "data": {
      "text/plain": [
       "age               0\n",
       "workclass         0\n",
       "fnlwgt            0\n",
       "education         0\n",
       "education.num     0\n",
       "marital.status    0\n",
       "occupation        0\n",
       "relationship      0\n",
       "race              0\n",
       "sex               0\n",
       "capital.gain      0\n",
       "capital.loss      0\n",
       "hours.per.week    0\n",
       "native.country    0\n",
       "target            0\n",
       "dtype: int64"
      ]
     },
     "execution_count": 10,
     "metadata": {},
     "output_type": "execute_result"
    }
   ],
   "source": [
    "train.isnull().sum()"
   ]
  },
  {
   "cell_type": "code",
   "execution_count": 11,
   "id": "50467584-8124-4008-81b4-ec87fe15c4e6",
   "metadata": {},
   "outputs": [
    {
     "name": "stdout",
     "output_type": "stream",
     "text": [
      "['workclass', 'education', 'marital.status', 'occupation', 'relationship', 'race', 'sex', 'native.country'] are encoded\n"
     ]
    }
   ],
   "source": [
    "def label_encoder(df, categorical_columns=None):\n",
    "    if not categorical_columns:\n",
    "        categorical_columns = [col for col in df.columns if df[col].dtype=='object']\n",
    "    for col in categorical_columns:\n",
    "        df[col], uniques = pd.factorize(df[col])\n",
    "    return df, categorical_columns\n",
    "    \n",
    "train, categorical_features = label_encoder(train)\n",
    "test, categorical_features = label_encoder(test)\n",
    "print(f'{categorical_features} are encoded')"
   ]
  },
  {
   "cell_type": "markdown",
   "id": "55b8af67-b38e-4e69-b9e0-c25b07269636",
   "metadata": {},
   "source": [
    "# 2. Basic modeling"
   ]
  },
  {
   "cell_type": "code",
   "execution_count": 13,
   "id": "971c4a9e-0004-4985-8d46-3c407aa0025d",
   "metadata": {},
   "outputs": [],
   "source": [
    "from sklearn.linear_model import LogisticRegression\n",
    "from sklearn.svm import SVC\n",
    "from sklearn.neighbors import KNeighborsClassifier\n",
    "from sklearn.tree import DecisionTreeClassifier\n",
    "from sklearn.ensemble import RandomForestClassifier\n",
    "from xgboost import XGBClassifier\n",
    "from lightgbm import LGBMClassifier\n",
    "from catboost import CatBoostClassifier\n",
    "from sklearn.neural_network import MLPClassifier\n",
    "\n",
    "names = ['LR', 'SVM', 'KNN', 'MLP', 'DT', 'RF', 'XGB', 'LGBM', 'CBM']\n",
    "models = []\n",
    "models.append(LogisticRegression(random_state=0))\n",
    "models.append(SVC(kernel='rbf'))\n",
    "models.append(KNeighborsClassifier())\n",
    "models.append(MLPClassifier(random_state=0))\n",
    "models.append(DecisionTreeClassifier(random_state=0))\n",
    "models.append(RandomForestClassifier(random_state=0))\n",
    "models.append(XGBClassifier(random_state=0))\n",
    "models.append(LGBMClassifier(random_state=0))\n",
    "models.append(CatBoostClassifier(random_state=0))\n"
   ]
  },
  {
   "cell_type": "code",
   "execution_count": 14,
   "id": "a90e41dc-f841-4a91-b3a3-df91554a5a85",
   "metadata": {},
   "outputs": [
    {
     "name": "stdout",
     "output_type": "stream",
     "text": [
      "(15644, 14) (15644,) (15081, 14)\n"
     ]
    }
   ],
   "source": [
    "y_train = train[label]\n",
    "X_train = train.drop(label, axis=1)\n",
    "X_test = test\n",
    "print(X_train.shape, y_train.shape, X_test.shape)"
   ]
  },
  {
   "cell_type": "code",
   "execution_count": 15,
   "id": "91f26bac-9764-467f-8981-4259adf65ad6",
   "metadata": {},
   "outputs": [
    {
     "data": {
      "text/html": [
       "<div>\n",
       "<style scoped>\n",
       "    .dataframe tbody tr th:only-of-type {\n",
       "        vertical-align: middle;\n",
       "    }\n",
       "\n",
       "    .dataframe tbody tr th {\n",
       "        vertical-align: top;\n",
       "    }\n",
       "\n",
       "    .dataframe thead th {\n",
       "        text-align: right;\n",
       "    }\n",
       "</style>\n",
       "<table border=\"1\" class=\"dataframe\">\n",
       "  <thead>\n",
       "    <tr style=\"text-align: right;\">\n",
       "      <th></th>\n",
       "      <th>age</th>\n",
       "      <th>workclass</th>\n",
       "      <th>fnlwgt</th>\n",
       "      <th>education</th>\n",
       "      <th>education.num</th>\n",
       "      <th>marital.status</th>\n",
       "      <th>occupation</th>\n",
       "      <th>relationship</th>\n",
       "      <th>race</th>\n",
       "      <th>sex</th>\n",
       "      <th>capital.gain</th>\n",
       "      <th>capital.loss</th>\n",
       "      <th>hours.per.week</th>\n",
       "      <th>native.country</th>\n",
       "    </tr>\n",
       "    <tr>\n",
       "      <th>id</th>\n",
       "      <th></th>\n",
       "      <th></th>\n",
       "      <th></th>\n",
       "      <th></th>\n",
       "      <th></th>\n",
       "      <th></th>\n",
       "      <th></th>\n",
       "      <th></th>\n",
       "      <th></th>\n",
       "      <th></th>\n",
       "      <th></th>\n",
       "      <th></th>\n",
       "      <th></th>\n",
       "      <th></th>\n",
       "    </tr>\n",
       "  </thead>\n",
       "  <tbody>\n",
       "    <tr>\n",
       "      <th>0</th>\n",
       "      <td>32</td>\n",
       "      <td>0</td>\n",
       "      <td>309513</td>\n",
       "      <td>0</td>\n",
       "      <td>12</td>\n",
       "      <td>0</td>\n",
       "      <td>0</td>\n",
       "      <td>0</td>\n",
       "      <td>0</td>\n",
       "      <td>0</td>\n",
       "      <td>0</td>\n",
       "      <td>0</td>\n",
       "      <td>40</td>\n",
       "      <td>0</td>\n",
       "    </tr>\n",
       "    <tr>\n",
       "      <th>1</th>\n",
       "      <td>33</td>\n",
       "      <td>0</td>\n",
       "      <td>205469</td>\n",
       "      <td>1</td>\n",
       "      <td>10</td>\n",
       "      <td>0</td>\n",
       "      <td>1</td>\n",
       "      <td>0</td>\n",
       "      <td>0</td>\n",
       "      <td>0</td>\n",
       "      <td>0</td>\n",
       "      <td>0</td>\n",
       "      <td>40</td>\n",
       "      <td>0</td>\n",
       "    </tr>\n",
       "    <tr>\n",
       "      <th>2</th>\n",
       "      <td>46</td>\n",
       "      <td>0</td>\n",
       "      <td>149949</td>\n",
       "      <td>1</td>\n",
       "      <td>10</td>\n",
       "      <td>0</td>\n",
       "      <td>0</td>\n",
       "      <td>0</td>\n",
       "      <td>0</td>\n",
       "      <td>0</td>\n",
       "      <td>0</td>\n",
       "      <td>0</td>\n",
       "      <td>40</td>\n",
       "      <td>0</td>\n",
       "    </tr>\n",
       "    <tr>\n",
       "      <th>3</th>\n",
       "      <td>23</td>\n",
       "      <td>0</td>\n",
       "      <td>193090</td>\n",
       "      <td>2</td>\n",
       "      <td>13</td>\n",
       "      <td>1</td>\n",
       "      <td>2</td>\n",
       "      <td>1</td>\n",
       "      <td>0</td>\n",
       "      <td>1</td>\n",
       "      <td>0</td>\n",
       "      <td>0</td>\n",
       "      <td>30</td>\n",
       "      <td>0</td>\n",
       "    </tr>\n",
       "    <tr>\n",
       "      <th>4</th>\n",
       "      <td>55</td>\n",
       "      <td>0</td>\n",
       "      <td>60193</td>\n",
       "      <td>3</td>\n",
       "      <td>9</td>\n",
       "      <td>2</td>\n",
       "      <td>2</td>\n",
       "      <td>2</td>\n",
       "      <td>0</td>\n",
       "      <td>1</td>\n",
       "      <td>0</td>\n",
       "      <td>0</td>\n",
       "      <td>40</td>\n",
       "      <td>0</td>\n",
       "    </tr>\n",
       "  </tbody>\n",
       "</table>\n",
       "</div>"
      ],
      "text/plain": [
       "    age  workclass  fnlwgt  education  education.num  marital.status  \\\n",
       "id                                                                     \n",
       "0    32          0  309513          0             12               0   \n",
       "1    33          0  205469          1             10               0   \n",
       "2    46          0  149949          1             10               0   \n",
       "3    23          0  193090          2             13               1   \n",
       "4    55          0   60193          3              9               2   \n",
       "\n",
       "    occupation  relationship  race  sex  capital.gain  capital.loss  \\\n",
       "id                                                                    \n",
       "0            0             0     0    0             0             0   \n",
       "1            1             0     0    0             0             0   \n",
       "2            0             0     0    0             0             0   \n",
       "3            2             1     0    1             0             0   \n",
       "4            2             2     0    1             0             0   \n",
       "\n",
       "    hours.per.week  native.country  \n",
       "id                                  \n",
       "0               40               0  \n",
       "1               40               0  \n",
       "2               40               0  \n",
       "3               30               0  \n",
       "4               40               0  "
      ]
     },
     "execution_count": 15,
     "metadata": {},
     "output_type": "execute_result"
    }
   ],
   "source": [
    "X_train.head()"
   ]
  },
  {
   "cell_type": "code",
   "execution_count": null,
   "id": "339a13e3-ca76-4e2d-8f61-77e2073743fc",
   "metadata": {},
   "outputs": [],
   "source": []
  },
  {
   "cell_type": "code",
   "execution_count": 18,
   "id": "1b510e32-4e45-48fa-9cec-6e8e83fd11e8",
   "metadata": {},
   "outputs": [
    {
     "name": "stdout",
     "output_type": "stream",
     "text": [
      "### 5 fold CV of LR ###\n",
      "CV mean:0.789951 +- std:0.003881\n",
      "\n",
      "### 5 fold CV of SVM ###\n",
      "CV mean:0.779212 +- std:0.009742\n",
      "\n",
      "### 5 fold CV of KNN ###\n",
      "CV mean:0.759268 +- std:0.006304\n",
      "\n",
      "### 5 fold CV of MLP ###\n",
      "CV mean:0.667228 +- std:0.210562\n",
      "\n",
      "### 5 fold CV of DT ###\n",
      "CV mean:0.799923 +- std:0.002783\n",
      "\n",
      "### 5 fold CV of RF ###\n",
      "CV mean:0.848313 +- std:0.005785\n",
      "\n",
      "### 5 fold CV of XGB ###\n",
      "CV mean:0.861417 +- std:0.008947\n",
      "\n",
      "### 5 fold CV of LGBM ###\n",
      "CV mean:0.865380 +- std:0.002330\n",
      "\n",
      "### 5 fold CV of CBM ###\n",
      "CV mean:0.865123 +- std:0.006771\n",
      "\n"
     ]
    },
    {
     "data": {
      "image/png": "[encoded data removed]",
      "text/plain": [
       "<Figure size 432x288 with 1 Axes>"
      ]
     },
     "metadata": {
      "needs_background": "light"
     },
     "output_type": "display_data"
    }
   ],
   "source": [
    "from sklearn.model_selection import KFold, cross_val_score\n",
    "import matplotlib.pyplot as plt\n",
    "import seaborn as sns\n",
    "kfold = KFold(n_splits=5, shuffle=True)\n",
    "\n",
    "cv_results = []\n",
    "for i in range(len(names)):\n",
    "    print(f'### 5 fold CV of {names[i]} ###')\n",
    "    cv_result = cross_val_score(models[i], X_train, y_train, \n",
    "                                cv=kfold, scoring='accuracy', n_jobs=-1)\n",
    "    cv_results.append(cv_result)\n",
    "    print(f'CV mean:{cv_result.mean():.6f} +- std:{cv_result.std():.6f}\\n')\n",
    "    \n",
    "\n",
    "\n",
    "cv_means = [ x.mean() for x in cv_results ]\n",
    "cv_std = [ x.std() for x in cv_results ]\n",
    "cv = {\n",
    "    'models':names,\n",
    "    'cv_means':cv_means,\n",
    "    'cv_std':cv_std\n",
    "}\n",
    "sns.barplot(y='models', x='cv_means', \n",
    "            data=cv, orient='h', \n",
    "            **{'xerr':cv_std})\n",
    "plt.title(\"5 Fold Cross-validation using ML\")\n",
    "plt.xlim(0.5,1)\n",
    "plt.show()"
   ]
  },
  {
   "cell_type": "code",
   "execution_count": null,
   "id": "8a3ecd25-53df-47cd-a7f5-884b0fe92248",
   "metadata": {},
   "outputs": [],
   "source": []
  },
  {
   "cell_type": "code",
   "execution_count": null,
   "id": "81ffbfad-e520-4669-babc-1eaf18c954dd",
   "metadata": {},
   "outputs": [],
   "source": []
  },
  {
   "cell_type": "code",
   "execution_count": null,
   "id": "28d0eb02-11c8-41a7-910b-57d175858474",
   "metadata": {},
   "outputs": [],
   "source": []
  },
  {
   "cell_type": "code",
   "execution_count": null,
   "id": "70580143-aecc-4cf2-ab5c-f8fd4685e6d9",
   "metadata": {},
   "outputs": [],
   "source": []
  },
  {
   "cell_type": "code",
   "execution_count": null,
   "id": "a2b2b615-76e1-4c6f-820d-733978988da2",
   "metadata": {},
   "outputs": [],
   "source": []
  },
  {
   "cell_type": "markdown",
   "id": "f6a655c9-22a8-4e5c-aa14-ceac32357814",
   "metadata": {},
   "source": [
    "# 3. Prediction using ensemble"
   ]
  },
  {
   "cell_type": "code",
   "execution_count": 22,
   "id": "b7f4d82b-29f0-4ba4-824a-a122bd1189ff",
   "metadata": {},
   "outputs": [],
   "source": [
    "from sklearn.ensemble import VotingClassifier\n",
    "votingC = VotingClassifier(estimators=[('RF', RandomForestClassifier(random_state=0)),\n",
    "                                      ('XGB', XGBClassifier(random_state=0)),\n",
    "                                      ('LGBM', LGBMClassifier(random_state=0)),\n",
    "                                      ('CBM', CatBoostClassifier()),\n",
    "                                      ],\n",
    "                          voting='hard', n_jobs=-1)\n",
    "\n",
    "# cv_result = cross_val_score(votingC, X_train, y_train, cv=5, scoring='accuracy')\n",
    "# print('The cross validation score is {}'.format(cv_result.mean()))\n",
    "\n",
    "\n",
    "votingC.fit(X_train,y_train)\n",
    "predictions = votingC.predict(X_test)\n",
    "sub = pd.read_csv('dataset/sample_submission.csv')\n",
    "sub['target'] = predictions\n",
    "sub.to_csv('result/day2.csv', index=False)\n"
   ]
  },
  {
   "cell_type": "code",
   "execution_count": 36,
   "id": "8f1a663d-960e-4c2c-b725-b286a3a95fe1",
   "metadata": {},
   "outputs": [],
   "source": [
    "from sklearn.ensemble import BaggingClassifier\n",
    "baggingC = BaggingClassifier(base_estimator=LGBMClassifier(random_state=0))\n",
    "\n",
    "# cv_result = cross_val_score(baggingC, X_train, y_train, cv=5, scoring='accuracy')\n",
    "# print('The cross validation score is {}'.format(cv_result.mean()))\n",
    "\n",
    "\n",
    "votingC.fit(X_train,y_train)\n",
    "predictions = votingC.predict(X_test)\n",
    "sub = pd.read_csv('dataset/sample_submission.csv')\n",
    "sub['target'] = predictions\n",
    "sub.to_csv('result/day2.csv', index=False)\n"
   ]
  },
  {
   "cell_type": "code",
   "execution_count": null,
   "id": "44f7b78f-fd40-443a-9eea-85c4b849db1d",
   "metadata": {},
   "outputs": [],
   "source": [
    "CV mean:0.865380 +- std:0.002330"
   ]
  },
  {
   "cell_type": "code",
   "execution_count": null,
   "id": "444e6678-f071-4085-9176-e3c9890ab60b",
   "metadata": {},
   "outputs": [],
   "source": []
  },
  {
   "cell_type": "code",
   "execution_count": 32,
   "id": "f27f7d86-055e-435e-8829-7eb7821a233b",
   "metadata": {},
   "outputs": [
    {
     "name": "stdout",
     "output_type": "stream",
     "text": [
      "|   iter    |  target   | max_fe... | max_sa... | n_esti... |\n",
      "-------------------------------------------------------------\n",
      "| \u001b[0m 1       \u001b[0m | \u001b[0m 0.8658  \u001b[0m | \u001b[0m 11.43   \u001b[0m | \u001b[0m 14.59   \u001b[0m | \u001b[0m 22.06   \u001b[0m |\n",
      "| \u001b[95m 2       \u001b[0m | \u001b[95m 0.8665  \u001b[0m | \u001b[95m 11.35   \u001b[0m | \u001b[95m 9.049   \u001b[0m | \u001b[95m 22.92   \u001b[0m |\n",
      "| \u001b[0m 3       \u001b[0m | \u001b[0m 0.8644  \u001b[0m | \u001b[0m 9.314   \u001b[0m | \u001b[0m 17.94   \u001b[0m | \u001b[0m 29.27   \u001b[0m |\n",
      "| \u001b[0m 4       \u001b[0m | \u001b[0m 0.8641  \u001b[0m | \u001b[0m 8.285   \u001b[0m | \u001b[0m 16.04   \u001b[0m | \u001b[0m 20.58   \u001b[0m |\n",
      "| \u001b[0m 5       \u001b[0m | \u001b[0m 0.8654  \u001b[0m | \u001b[0m 11.79   \u001b[0m | \u001b[0m 18.59   \u001b[0m | \u001b[0m 11.42   \u001b[0m |\n",
      "| \u001b[0m 6       \u001b[0m | \u001b[0m 0.8648  \u001b[0m | \u001b[0m 13.71   \u001b[0m | \u001b[0m 14.5    \u001b[0m | \u001b[0m 26.93   \u001b[0m |\n",
      "| \u001b[0m 7       \u001b[0m | \u001b[0m 0.8649  \u001b[0m | \u001b[0m 5.375   \u001b[0m | \u001b[0m 19.19   \u001b[0m | \u001b[0m 17.66   \u001b[0m |\n",
      "| \u001b[95m 8       \u001b[0m | \u001b[95m 0.867   \u001b[0m | \u001b[95m 11.28   \u001b[0m | \u001b[95m 11.51   \u001b[0m | \u001b[95m 24.65   \u001b[0m |\n",
      "| \u001b[0m 9       \u001b[0m | \u001b[0m 0.8661  \u001b[0m | \u001b[0m 9.822   \u001b[0m | \u001b[0m 9.553   \u001b[0m | \u001b[0m 25.83   \u001b[0m |\n",
      "| \u001b[0m 10      \u001b[0m | \u001b[0m 0.8638  \u001b[0m | \u001b[0m 13.64   \u001b[0m | \u001b[0m 11.41   \u001b[0m | \u001b[0m 22.96   \u001b[0m |\n",
      "=============================================================\n"
     ]
    }
   ],
   "source": [
    "# 1. bound\n",
    "rf_parameter_bounds = {\n",
    "    'max_samples':(1,20),\n",
    "    'max_features':(1,20),\n",
    "    'n_estimators':(10,30)\n",
    "}\n",
    "# bound ftn > 성능 발현\n",
    "def rf_bo(max_samples, max_features, n_estimators):\n",
    "    \"\"\"\n",
    "    input: bound의 key\n",
    "    param으로 받아 score를 산출할 수 있도록 함\n",
    "    \"\"\"\n",
    "    rf_params={\n",
    "        'max_samples':int(round(max_samples)),\n",
    "        'max_features':int(round(max_features)),\n",
    "        'n_estimators':int(round(n_estimators))\n",
    "    }\n",
    "    baggingC = BaggingClassifier(base_estimator=LGBMClassifier(random_state=0))\n",
    "    score = cross_val_score(baggingC, X_train, y_train, cv=kfold, scoring='accuracy', n_jobs=-1)\n",
    "    return score.mean()\n",
    "\n",
    "BO_rf = BayesianOptimization(f=rf_bo, pbounds=rf_parameter_bounds, random_state=0)\n",
    "BO_rf.maximize(init_points=5, n_iter=5)"
   ]
  },
  {
   "cell_type": "code",
   "execution_count": 35,
   "id": "3e3c4c68-636c-4d4b-b6c6-1a11c0dedcec",
   "metadata": {},
   "outputs": [
    {
     "name": "stdout",
     "output_type": "stream",
     "text": [
      "{'max_features': 11, 'max_samples': 11, 'n_estimators': 24}\n"
     ]
    },
    {
     "data": {
      "text/plain": [
       "0.7804924683617245"
      ]
     },
     "execution_count": 35,
     "metadata": {},
     "output_type": "execute_result"
    }
   ],
   "source": [
    "max_params = BO_rf.max['params']\n",
    "max_params['max_samples'] = int(max_params['max_samples'])\n",
    "max_params['max_features'] = int(max_params['max_features'])\n",
    "max_params['n_estimators'] = int(max_params['n_estimators'])\n",
    "print(max_params)\n",
    "\n",
    "baggingC = BaggingClassifier(base_estimator=LGBMClassifier(random_state=0),**max_params)\n",
    "score = cross_val_score(baggingC, X_train, y_train, cv=kfold, scoring='accuracy', n_jobs=-1)\n",
    "score.mean()"
   ]
  },
  {
   "cell_type": "code",
   "execution_count": 15,
   "id": "b78fa808-3ac5-4874-9208-988204e1b96f",
   "metadata": {},
   "outputs": [
    {
     "data": {
      "text/plain": [
       "0.865045766590389"
      ]
     },
     "execution_count": 15,
     "metadata": {},
     "output_type": "execute_result"
    }
   ],
   "source": [
    "BO_tuend_rf = LGBMClassifier(**max_params)\n",
    "score = cross_val_score(BO_tuend_rf, X_train, y_train, cv=kfold, scoring='accuracy', n_jobs=-1)\n",
    "score.mean()"
   ]
  },
  {
   "cell_type": "code",
   "execution_count": 16,
   "id": "dd8dbca5-5111-465c-ac73-2639bc53f866",
   "metadata": {},
   "outputs": [],
   "source": [
    "# sub = pd.read_csv('dataset/sample_submission.csv')\n",
    "# sub['target'] = pred\n",
    "# sub.to_csv('result/day1.csv', index=False)"
   ]
  },
  {
   "cell_type": "code",
   "execution_count": null,
   "id": "25d7847d-e483-45c6-89f9-81d081d4984c",
   "metadata": {},
   "outputs": [],
   "source": []
  }
 ],
 "metadata": {
  "kernelspec": {
   "display_name": "Python 3 (ipykernel)",
   "language": "python",
   "name": "python3"
  },
  "language_info": {
   "codemirror_mode": {
    "name": "ipython",
    "version": 3
   },
   "file_extension": ".py",
   "mimetype": "text/x-python",
   "name": "python",
   "nbconvert_exporter": "python",
   "pygments_lexer": "ipython3",
   "version": "3.9.7"
  }
 },
 "nbformat": 4,
 "nbformat_minor": 5
}
