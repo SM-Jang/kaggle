{
 "cells": [
  {
   "cell_type": "code",
   "execution_count": 1,
   "metadata": {},
   "outputs": [],
   "source": [
    "import pandas as pd\n",
    "import numpy as np\n",
    "import matplotlib.pyplot as plt\n",
    "from sklearn.decomposition import PCA\n",
    "from sklearn.ensemble import RandomForestClassifier"
   ]
  },
  {
   "cell_type": "code",
   "execution_count": 2,
   "metadata": {},
   "outputs": [],
   "source": [
    "x_train = pd.read_csv('data/train.csv', index_col=0)\n",
    "y_train = x_train.pop('quality')\n",
    "x_test = pd.read_csv('data/test.csv', index_col=0)"
   ]
  },
  {
   "cell_type": "code",
   "execution_count": 3,
   "metadata": {},
   "outputs": [],
   "source": [
    "import warnings\n",
    "warnings.filterwarnings(action='ignore')\n",
    "# Categorical\n",
    "x_train['type'][x_train['type']=='red'] = 0\n",
    "x_train['type'][x_train['type']=='white'] = 1\n",
    "x_test['type'][x_test['type']=='red'] = 0\n",
    "x_test['type'][x_test['type']=='white'] = 1"
   ]
  },
  {
   "cell_type": "code",
   "execution_count": 4,
   "metadata": {
    "tags": []
   },
   "outputs": [],
   "source": [
    "# Normalization\n",
    "for i, (k, v) in enumerate(x_train.items()):\n",
    "    if k == 'type': \n",
    "        continue\n",
    "    mean, std = v.mean(), v.std()\n",
    "    x_train[k] = (x_train[k]-mean)/std\n",
    "    x_test[k] = (x_test[k]-mean)/std"
   ]
  },
  {
   "cell_type": "code",
   "execution_count": 5,
   "metadata": {},
   "outputs": [
    {
     "data": {
      "text/plain": [
       "((5497, 10), (1000, 10))"
      ]
     },
     "execution_count": 5,
     "metadata": {},
     "output_type": "execute_result"
    }
   ],
   "source": [
    "# Feature Engineering with PCA\n",
    "\n",
    "# PCA1\n",
    "feature = ['alcohol','density']\n",
    "\n",
    "x = x_train[feature]\n",
    "x_= x_test[feature]\n",
    "pca = PCA(n_components=1)\n",
    "pca.fit(x)\n",
    "x_pca = pca.transform(x)\n",
    "x_pca_= pca.transform(x_)\n",
    "x_train = x_train.drop(feature, axis=1)\n",
    "x_test = x_test.drop(feature, axis=1)\n",
    "x_train['pca1'] = x_pca\n",
    "x_test['pca1'] = x_pca_\n",
    "\n",
    "# PCA2\n",
    "feature = ['total sulfur dioxide','free sulfur dioxide']\n",
    "\n",
    "x = x_train[feature]\n",
    "x_= x_test[feature]\n",
    "pca = PCA(n_components=1)\n",
    "pca.fit(x)\n",
    "x_pca = pca.transform(x)\n",
    "x_pca_= pca.transform(x_)\n",
    "x_train = x_train.drop(feature, axis=1)\n",
    "x_test = x_test.drop(feature, axis=1)\n",
    "x_train['pca2'] = x_pca\n",
    "x_test['pca2'] = x_pca_\n",
    "\n",
    "x_train.shape, x_test.shape"
   ]
  },
  {
   "cell_type": "code",
   "execution_count": 6,
   "metadata": {},
   "outputs": [],
   "source": [
    "# train\n",
    "model = RandomForestClassifier(random_state=123)\n",
    "model.fit(x_train, y_train)\n",
    "\n",
    "# prediction\n",
    "prediction = model.predict(x_test)\n",
    "df = pd.DataFrame({\n",
    "    'index':range(1000),\n",
    "    'quality':prediction\n",
    "})\n",
    "df.to_csv('submission.csv', index=False)"
   ]
  },
  {
   "cell_type": "code",
   "execution_count": null,
   "metadata": {},
   "outputs": [],
   "source": []
  }
 ],
 "metadata": {
  "kernelspec": {
   "display_name": "torch",
   "language": "python",
   "name": "torch"
  },
  "language_info": {
   "codemirror_mode": {
    "name": "ipython",
    "version": 3
   },
   "file_extension": ".py",
   "mimetype": "text/x-python",
   "name": "python",
   "nbconvert_exporter": "python",
   "pygments_lexer": "ipython3",
   "version": "3.7.11"
  }
 },
 "nbformat": 4,
 "nbformat_minor": 4
}
