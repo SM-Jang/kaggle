{
 "cells": [
  {
   "cell_type": "code",
   "execution_count": 1,
   "metadata": {},
   "outputs": [
    {
     "data": {
      "text/plain": [
       "((1253, 9), (2924, 8))"
      ]
     },
     "execution_count": 1,
     "metadata": {},
     "output_type": "execute_result"
    }
   ],
   "source": [
    "import pandas as pd\n",
    "import numpy as np\n",
    "import matplotlib.pyplot as plt\n",
    "import seaborn as sns\n",
    "\n",
    "train = pd.read_csv('dataset/train.csv',  index_col = 0)\n",
    "test = pd.read_csv('dataset/test.csv', index_col = 0)\n",
    "train.shape, test.shape\n"
   ]
  },
  {
   "cell_type": "code",
   "execution_count": 2,
   "metadata": {},
   "outputs": [
    {
     "data": {
      "text/html": [
       "<div>\n",
       "<style scoped>\n",
       "    .dataframe tbody tr th:only-of-type {\n",
       "        vertical-align: middle;\n",
       "    }\n",
       "\n",
       "    .dataframe tbody tr th {\n",
       "        vertical-align: top;\n",
       "    }\n",
       "\n",
       "    .dataframe thead th {\n",
       "        text-align: right;\n",
       "    }\n",
       "</style>\n",
       "<table border=\"1\" class=\"dataframe\">\n",
       "  <thead>\n",
       "    <tr style=\"text-align: right;\">\n",
       "      <th></th>\n",
       "      <th>Gender</th>\n",
       "      <th>Length</th>\n",
       "      <th>Diameter</th>\n",
       "      <th>Height</th>\n",
       "      <th>Whole Weight</th>\n",
       "      <th>Shucked Weight</th>\n",
       "      <th>Viscra Weight</th>\n",
       "      <th>Shell Weight</th>\n",
       "      <th>Target</th>\n",
       "    </tr>\n",
       "    <tr>\n",
       "      <th>id</th>\n",
       "      <th></th>\n",
       "      <th></th>\n",
       "      <th></th>\n",
       "      <th></th>\n",
       "      <th></th>\n",
       "      <th></th>\n",
       "      <th></th>\n",
       "      <th></th>\n",
       "      <th></th>\n",
       "    </tr>\n",
       "  </thead>\n",
       "  <tbody>\n",
       "    <tr>\n",
       "      <th>1</th>\n",
       "      <td>M</td>\n",
       "      <td>0.605</td>\n",
       "      <td>0.470</td>\n",
       "      <td>0.115</td>\n",
       "      <td>1.1140</td>\n",
       "      <td>0.3925</td>\n",
       "      <td>0.2910</td>\n",
       "      <td>0.3100</td>\n",
       "      <td>15</td>\n",
       "    </tr>\n",
       "    <tr>\n",
       "      <th>2</th>\n",
       "      <td>I</td>\n",
       "      <td>0.430</td>\n",
       "      <td>0.315</td>\n",
       "      <td>0.095</td>\n",
       "      <td>0.3780</td>\n",
       "      <td>0.1750</td>\n",
       "      <td>0.0800</td>\n",
       "      <td>0.1045</td>\n",
       "      <td>8</td>\n",
       "    </tr>\n",
       "    <tr>\n",
       "      <th>3</th>\n",
       "      <td>I</td>\n",
       "      <td>0.580</td>\n",
       "      <td>0.490</td>\n",
       "      <td>0.195</td>\n",
       "      <td>1.3165</td>\n",
       "      <td>0.5305</td>\n",
       "      <td>0.2540</td>\n",
       "      <td>0.4100</td>\n",
       "      <td>18</td>\n",
       "    </tr>\n",
       "    <tr>\n",
       "      <th>4</th>\n",
       "      <td>M</td>\n",
       "      <td>0.535</td>\n",
       "      <td>0.405</td>\n",
       "      <td>0.175</td>\n",
       "      <td>1.2705</td>\n",
       "      <td>0.5480</td>\n",
       "      <td>0.3265</td>\n",
       "      <td>0.3370</td>\n",
       "      <td>13</td>\n",
       "    </tr>\n",
       "    <tr>\n",
       "      <th>5</th>\n",
       "      <td>I</td>\n",
       "      <td>0.310</td>\n",
       "      <td>0.235</td>\n",
       "      <td>0.090</td>\n",
       "      <td>0.1270</td>\n",
       "      <td>0.0480</td>\n",
       "      <td>0.0310</td>\n",
       "      <td>0.0400</td>\n",
       "      <td>6</td>\n",
       "    </tr>\n",
       "  </tbody>\n",
       "</table>\n",
       "</div>"
      ],
      "text/plain": [
       "   Gender  Length  Diameter  Height  Whole Weight  Shucked Weight  \\\n",
       "id                                                                  \n",
       "1       M   0.605     0.470   0.115        1.1140          0.3925   \n",
       "2       I   0.430     0.315   0.095        0.3780          0.1750   \n",
       "3       I   0.580     0.490   0.195        1.3165          0.5305   \n",
       "4       M   0.535     0.405   0.175        1.2705          0.5480   \n",
       "5       I   0.310     0.235   0.090        0.1270          0.0480   \n",
       "\n",
       "    Viscra Weight  Shell Weight  Target  \n",
       "id                                       \n",
       "1          0.2910        0.3100      15  \n",
       "2          0.0800        0.1045       8  \n",
       "3          0.2540        0.4100      18  \n",
       "4          0.3265        0.3370      13  \n",
       "5          0.0310        0.0400       6  "
      ]
     },
     "execution_count": 2,
     "metadata": {},
     "output_type": "execute_result"
    }
   ],
   "source": [
    "train.rename(columns={'Lenght':'Length'}, inplace=True)\n",
    "test.rename(columns={'Lenght':'Length'}, inplace=True)\n",
    "train.head()"
   ]
  },
  {
   "cell_type": "markdown",
   "metadata": {},
   "source": [
    "# 1. Preprocessing"
   ]
  },
  {
   "cell_type": "code",
   "execution_count": 3,
   "metadata": {},
   "outputs": [],
   "source": [
    "# Categorical: tree기반이기 때문에 one-hot이 필요없음\n",
    "train.loc[train[train['Gender']=='M'].index, 'Gender']=1\n",
    "train.loc[train[train['Gender']=='I'].index, 'Gender']=3\n",
    "train.loc[train[train['Gender']=='F'].index, 'Gender']=2\n",
    "test.loc[test[test['Gender']=='M'].index, 'Gender']=1\n",
    "test.loc[test[test['Gender']=='I'].index, 'Gender']=3\n",
    "test.loc[test[test['Gender']=='F'].index, 'Gender']=2"
   ]
  },
  {
   "cell_type": "code",
   "execution_count": 4,
   "metadata": {},
   "outputs": [],
   "source": []
  },
  {
   "cell_type": "code",
   "execution_count": 5,
   "metadata": {},
   "outputs": [
    {
     "name": "stdout",
     "output_type": "stream",
     "text": [
      "[0.98310174 0.01243965]\n",
      "(1253, 6) (2924, 5)\n"
     ]
    }
   ],
   "source": [
    "# PCA\n",
    "from sklearn.decomposition import PCA\n",
    "features = ['Whole Weight','Shucked Weight','Viscra Weight', 'Shell Weight']\n",
    "\n",
    "x = train.loc[:, features]\n",
    "pca = PCA(n_components=2)\n",
    "pca.fit(x)\n",
    "\n",
    "\n",
    "\n",
    "new_train_feature = pca.transform(x)\n",
    "train['PCA1'] = new_train_feature[:,0]\n",
    "# train['PCA2'] = new_train_feature[:,1]\n",
    "train.drop(features, axis=1, inplace=True)\n",
    "\n",
    "x = test.loc[:, features]\n",
    "new_test_feature = pca.transform(x)\n",
    "test['PCA1'] = new_test_feature[:,0]\n",
    "# test['PCA2'] = new_test_feature[:,1]\n",
    "test.drop(features, axis=1, inplace=True)\n",
    "\n",
    "print(pca.explained_variance_ratio_)\n",
    "print(train.shape, test.shape)"
   ]
  },
  {
   "cell_type": "code",
   "execution_count": 6,
   "metadata": {},
   "outputs": [],
   "source": [
    "# normalize\n",
    "# numerical_features = [x for x in train.keys() if x not in ['S_F','S_I','S_M','Target']]\n",
    "# train[numerical_features]=(train[numerical_features] -train[numerical_features].mean())/train[numerical_features].std()\n",
    "# test[numerical_features]=(test[numerical_features] -test[numerical_features].mean())/test[numerical_features].std()"
   ]
  },
  {
   "cell_type": "code",
   "execution_count": 6,
   "metadata": {},
   "outputs": [],
   "source": [
    "y_train = train.pop('Target').to_numpy()\n",
    "x_train = train.to_numpy()\n",
    "x_test = test.to_numpy()"
   ]
  },
  {
   "cell_type": "markdown",
   "metadata": {
    "tags": []
   },
   "source": [
    "# 2. Train a Random forest"
   ]
  },
  {
   "cell_type": "code",
   "execution_count": 9,
   "metadata": {},
   "outputs": [
    {
     "name": "stdout",
     "output_type": "stream",
     "text": [
      "RandomForestRegressor(criterion='mae', n_jobs=-1, random_state=123)\n"
     ]
    },
    {
     "data": {
      "text/plain": [
       "GridSearchCV(cv=5,\n",
       "             estimator=RandomForestRegressor(criterion='mae', n_jobs=-1,\n",
       "                                             random_state=123),\n",
       "             param_grid={'max_depth': [3, 4, 5],\n",
       "                         'min_samples_leaf': [2, 4, 6, 8, 10],\n",
       "                         'n_estimators': [100, 102, 104, 106, 108]})"
      ]
     },
     "execution_count": 9,
     "metadata": {},
     "output_type": "execute_result"
    }
   ],
   "source": [
    "import numpy as np\n",
    "from sklearn.model_selection import StratifiedKFold\n",
    "from sklearn.model_selection import GridSearchCV\n",
    "from sklearn.ensemble import RandomForestRegressor\n",
    "random_seed = 123\n",
    "\n",
    "params={\n",
    "    'n_estimators':[100,102,104,106,108],\n",
    "    'max_depth':[3,4,5],\n",
    "    'min_samples_leaf':[2,4,6,8,10],\n",
    "    # 'min_samples_split':[2,4,6,8,10],   \n",
    "}\n",
    "\n",
    "# modeling\n",
    "RF = RandomForestRegressor(random_state=random_seed,criterion='mae', n_jobs=-1)\n",
    "print(RF)\n",
    "gridRF = GridSearchCV(RF, param_grid=params, cv=5)\n",
    "gridRF.fit(x_train, y_train)"
   ]
  },
  {
   "cell_type": "code",
   "execution_count": 10,
   "metadata": {},
   "outputs": [],
   "source": [
    "def NMAE(true, pred):\n",
    "    mae = np.mean(np.abs(true-pred))\n",
    "    score = mae / np.mean(np.abs(true))\n",
    "    return score"
   ]
  },
  {
   "cell_type": "code",
   "execution_count": 11,
   "metadata": {},
   "outputs": [
    {
     "name": "stdout",
     "output_type": "stream",
     "text": [
      "Best parameters: {'max_depth': 5, 'min_samples_leaf': 8, 'n_estimators': 108}\n",
      "Best score: 0.3432878619161478\n"
     ]
    },
    {
     "data": {
      "text/plain": [
       "0.16214215423152625"
      ]
     },
     "execution_count": 11,
     "metadata": {},
     "output_type": "execute_result"
    }
   ],
   "source": [
    "print('Best parameters:', gridRF.best_params_)\n",
    "print('Best score:', gridRF.best_score_)\n",
    "bestRF = gridRF.best_estimator_\n",
    "y_pred = bestRF.predict(x_train)\n",
    "NMAE(y_train, y_pred)"
   ]
  },
  {
   "cell_type": "markdown",
   "metadata": {},
   "source": [
    "# 3. Inference"
   ]
  },
  {
   "cell_type": "code",
   "execution_count": 12,
   "metadata": {},
   "outputs": [],
   "source": [
    "predictions = bestRF.predict(x_test)\n",
    "sub = pd.read_csv('dataset/sample_submission.csv')\n",
    "sub.loc[:,'Target']=predictions\n",
    "sub.to_csv(f'result/RF_.csv', index=False)\n"
   ]
  },
  {
   "cell_type": "code",
   "execution_count": null,
   "metadata": {},
   "outputs": [],
   "source": []
  }
 ],
 "metadata": {
  "kernelspec": {
   "display_name": "ms-tcn",
   "language": "python",
   "name": "ms-tcn"
  },
  "language_info": {
   "codemirror_mode": {
    "name": "ipython",
    "version": 3
   },
   "file_extension": ".py",
   "mimetype": "text/x-python",
   "name": "python",
   "nbconvert_exporter": "python",
   "pygments_lexer": "ipython3",
   "version": "3.7.10"
  }
 },
 "nbformat": 4,
 "nbformat_minor": 4
}
