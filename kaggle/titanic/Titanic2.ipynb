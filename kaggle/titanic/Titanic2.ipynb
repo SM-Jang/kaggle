{
 "cells": [
  {
   "cell_type": "markdown",
   "id": "bebed9ed-d633-4dad-8494-4dea281f8b1b",
   "metadata": {},
   "source": [
    "## 1. Introduction\n",
    "## 2. Load and check data\n",
    " - 2.1 load data\n",
    " - 2.2 Outlier detection\n",
    " - 2.3 Joining train and test set\n",
    " - 2.4 check for null and missing values\n",
    " \n",
    "## 3. Feature analysis\n",
    " - 3.1 Numerical values\n",
    " - 3.2 Categorical values\n",
    " \n",
    "## 4. Filling missing values\n",
    " - 4.1 Age\n",
    " \n",
    "## 5. Feature engineering\n",
    " - 5.1 Name/Title\n",
    " - 5.2 Family Size\n",
    " - 5.3 Cabin\n",
    " - 5.4 Ticket\n",
    " \n",
    "## 6. Modeling\n",
    " ### 6.1 Simple Modeling\n",
    "  - 6.1.1 Cross validate models\n",
    "  - 6.1.2 Hyperparater tuning for best models\n",
    "  - 6.1.3 Plot learning curves\n",
    "  - 6.1.4 Feature Importance of the tree based classifiers\n",
    " ### 6.2 Ensemble modeling\n",
    "  - 6.2.1 Combining models\n",
    " ### 6.3 Prediction\n",
    "  - 6.3.1 Predict and Submit results"
   ]
  },
  {
   "cell_type": "markdown",
   "id": "6975d7aa-36bd-4297-8cdf-677dcf1bf71c",
   "metadata": {},
   "source": [
    "# 1. Introduction\n",
    "- Feature analysis\n",
    "- Feature engineering\n",
    "- Modeling"
   ]
  },
  {
   "cell_type": "code",
   "execution_count": 1,
   "id": "0b530bfc-5901-47c0-a0f4-0f20b49f5479",
   "metadata": {},
   "outputs": [],
   "source": [
    "import pandas as pd\n",
    "import numpy as np\n",
    "import matplotlib.pyplot as plt\n",
    "import seaborn as sns\n",
    "%matplotlib inline\n",
    "\n",
    "sns.set(style='white', context='notebook', palette='deep')"
   ]
  },
  {
   "cell_type": "markdown",
   "id": "2b56460c-beae-4077-8cad-7b0af3acb936",
   "metadata": {},
   "source": [
    "# 2. Load and check data\n",
    "2.1 Load data"
   ]
  },
  {
   "cell_type": "code",
   "execution_count": 2,
   "id": "0f067b7d-9fa7-4dbb-849c-1e4293a49b38",
   "metadata": {},
   "outputs": [],
   "source": [
    "train = pd.read_csv('input/train.csv')\n",
    "test = pd.read_csv('input/test.csv')\n",
    "IDtest = test['PassengerId']"
   ]
  },
  {
   "cell_type": "markdown",
   "id": "570e1b84-9cc1-46a0-917c-fc83fc8e4162",
   "metadata": {},
   "source": [
    "2.2 Outlier detection\n",
    "이상값은 예측력에 상당한 문제를 일으킬 수 있기 때문에, 관리해준다\n",
    "\n",
    "Tukey의 방법을 사용해서 이상치를 검측했습니다. 이는 분포의 1st와 3rd 사이의 (IQR) interquartile 범위를 정의하는 방법이다. 하나의 이상치는 IQR +- an outlier step의 밖에 있는 변수를 갖는 샘플이다.\n",
    "\n",
    "이상치를 수치형 변수 (Age, SibSp, Parch, Fare)에서 찾기로 하였다. 그리고 2개 이상의 이상치 수치형 변수로 정의하여 row를 선택한다"
   ]
  },
  {
   "cell_type": "code",
   "execution_count": 3,
   "id": "fd970d9e-8406-4493-9265-fce236fa8120",
   "metadata": {},
   "outputs": [
    {
     "name": "stdout",
     "output_type": "stream",
     "text": [
      "The Outlier sample indices is [27, 88, 159, 180, 201, 324, 341, 792, 846, 863]\n"
     ]
    }
   ],
   "source": [
    "from collections import Counter\n",
    "def detect_outliers(df, n, features):\n",
    "    \"\"\"\n",
    "    데이터프레임을 받아서 아웃라이어의 인덱스를 반환하는 함수\n",
    "    \"\"\"\n",
    "\n",
    "    outlier_indices = []\n",
    "    # 모든 feature에 대하여\n",
    "    for col in features:\n",
    "        # IQR\n",
    "        Q1 = np.percentile(df[col], 25)\n",
    "        Q3 = np.percentile(df[col], 75)\n",
    "        IQR = Q3 - Q1\n",
    "        \n",
    "        # outlier step\n",
    "        outlier_step = 1.5*IQR\n",
    "        \n",
    "        # Determine a list of indices of outliers for feature col\n",
    "        outlier_list_col = df[(df[col] < Q1 - outlier_step)|(df[col] > Q3 + outlier_step)].index\n",
    "        \n",
    "        # append the found outlier indices for col to the list of outlier indices\n",
    "        outlier_indices.extend(outlier_list_col)\n",
    "        \n",
    "    # select observations containing more than 2 outliers\n",
    "    outlier_indices = Counter(outlier_indices)\n",
    "    multiple_outliers = list( k for k, v in outlier_indices.items() if v>n)\n",
    "    return multiple_outliers\n",
    "\n",
    "cols = ['Age', 'SibSp', 'Parch', 'Fare']\n",
    "Outliers_to_drop = detect_outliers(train, 2, cols)\n",
    "print(f\"The Outlier sample indices is {Outliers_to_drop}\")"
   ]
  },
  {
   "cell_type": "markdown",
   "id": "1b867248-1642-48b5-b801-2232bd102bd7",
   "metadata": {},
   "source": [
    "We detect 10 outliers. The 28, 89, 342 passenger have an high Ticket Fare. The 7 others jave very high values of SibSp."
   ]
  },
  {
   "cell_type": "code",
   "execution_count": 4,
   "id": "3992240d-420e-456a-a900-696d3c74f81f",
   "metadata": {},
   "outputs": [
    {
     "data": {
      "text/html": [
       "<div>\n",
       "<style scoped>\n",
       "    .dataframe tbody tr th:only-of-type {\n",
       "        vertical-align: middle;\n",
       "    }\n",
       "\n",
       "    .dataframe tbody tr th {\n",
       "        vertical-align: top;\n",
       "    }\n",
       "\n",
       "    .dataframe thead th {\n",
       "        text-align: right;\n",
       "    }\n",
       "</style>\n",
       "<table border=\"1\" class=\"dataframe\">\n",
       "  <thead>\n",
       "    <tr style=\"text-align: right;\">\n",
       "      <th></th>\n",
       "      <th>PassengerId</th>\n",
       "      <th>Survived</th>\n",
       "      <th>Pclass</th>\n",
       "      <th>Name</th>\n",
       "      <th>Sex</th>\n",
       "      <th>Age</th>\n",
       "      <th>SibSp</th>\n",
       "      <th>Parch</th>\n",
       "      <th>Ticket</th>\n",
       "      <th>Fare</th>\n",
       "      <th>Cabin</th>\n",
       "      <th>Embarked</th>\n",
       "    </tr>\n",
       "  </thead>\n",
       "  <tbody>\n",
       "    <tr>\n",
       "      <th>27</th>\n",
       "      <td>28</td>\n",
       "      <td>0</td>\n",
       "      <td>1</td>\n",
       "      <td>Fortune, Mr. Charles Alexander</td>\n",
       "      <td>male</td>\n",
       "      <td>19.0</td>\n",
       "      <td>3</td>\n",
       "      <td>2</td>\n",
       "      <td>19950</td>\n",
       "      <td>263.00</td>\n",
       "      <td>C23 C25 C27</td>\n",
       "      <td>S</td>\n",
       "    </tr>\n",
       "    <tr>\n",
       "      <th>88</th>\n",
       "      <td>89</td>\n",
       "      <td>1</td>\n",
       "      <td>1</td>\n",
       "      <td>Fortune, Miss. Mabel Helen</td>\n",
       "      <td>female</td>\n",
       "      <td>23.0</td>\n",
       "      <td>3</td>\n",
       "      <td>2</td>\n",
       "      <td>19950</td>\n",
       "      <td>263.00</td>\n",
       "      <td>C23 C25 C27</td>\n",
       "      <td>S</td>\n",
       "    </tr>\n",
       "    <tr>\n",
       "      <th>159</th>\n",
       "      <td>160</td>\n",
       "      <td>0</td>\n",
       "      <td>3</td>\n",
       "      <td>Sage, Master. Thomas Henry</td>\n",
       "      <td>male</td>\n",
       "      <td>NaN</td>\n",
       "      <td>8</td>\n",
       "      <td>2</td>\n",
       "      <td>CA. 2343</td>\n",
       "      <td>69.55</td>\n",
       "      <td>NaN</td>\n",
       "      <td>S</td>\n",
       "    </tr>\n",
       "    <tr>\n",
       "      <th>180</th>\n",
       "      <td>181</td>\n",
       "      <td>0</td>\n",
       "      <td>3</td>\n",
       "      <td>Sage, Miss. Constance Gladys</td>\n",
       "      <td>female</td>\n",
       "      <td>NaN</td>\n",
       "      <td>8</td>\n",
       "      <td>2</td>\n",
       "      <td>CA. 2343</td>\n",
       "      <td>69.55</td>\n",
       "      <td>NaN</td>\n",
       "      <td>S</td>\n",
       "    </tr>\n",
       "    <tr>\n",
       "      <th>201</th>\n",
       "      <td>202</td>\n",
       "      <td>0</td>\n",
       "      <td>3</td>\n",
       "      <td>Sage, Mr. Frederick</td>\n",
       "      <td>male</td>\n",
       "      <td>NaN</td>\n",
       "      <td>8</td>\n",
       "      <td>2</td>\n",
       "      <td>CA. 2343</td>\n",
       "      <td>69.55</td>\n",
       "      <td>NaN</td>\n",
       "      <td>S</td>\n",
       "    </tr>\n",
       "    <tr>\n",
       "      <th>324</th>\n",
       "      <td>325</td>\n",
       "      <td>0</td>\n",
       "      <td>3</td>\n",
       "      <td>Sage, Mr. George John Jr</td>\n",
       "      <td>male</td>\n",
       "      <td>NaN</td>\n",
       "      <td>8</td>\n",
       "      <td>2</td>\n",
       "      <td>CA. 2343</td>\n",
       "      <td>69.55</td>\n",
       "      <td>NaN</td>\n",
       "      <td>S</td>\n",
       "    </tr>\n",
       "    <tr>\n",
       "      <th>341</th>\n",
       "      <td>342</td>\n",
       "      <td>1</td>\n",
       "      <td>1</td>\n",
       "      <td>Fortune, Miss. Alice Elizabeth</td>\n",
       "      <td>female</td>\n",
       "      <td>24.0</td>\n",
       "      <td>3</td>\n",
       "      <td>2</td>\n",
       "      <td>19950</td>\n",
       "      <td>263.00</td>\n",
       "      <td>C23 C25 C27</td>\n",
       "      <td>S</td>\n",
       "    </tr>\n",
       "    <tr>\n",
       "      <th>792</th>\n",
       "      <td>793</td>\n",
       "      <td>0</td>\n",
       "      <td>3</td>\n",
       "      <td>Sage, Miss. Stella Anna</td>\n",
       "      <td>female</td>\n",
       "      <td>NaN</td>\n",
       "      <td>8</td>\n",
       "      <td>2</td>\n",
       "      <td>CA. 2343</td>\n",
       "      <td>69.55</td>\n",
       "      <td>NaN</td>\n",
       "      <td>S</td>\n",
       "    </tr>\n",
       "    <tr>\n",
       "      <th>846</th>\n",
       "      <td>847</td>\n",
       "      <td>0</td>\n",
       "      <td>3</td>\n",
       "      <td>Sage, Mr. Douglas Bullen</td>\n",
       "      <td>male</td>\n",
       "      <td>NaN</td>\n",
       "      <td>8</td>\n",
       "      <td>2</td>\n",
       "      <td>CA. 2343</td>\n",
       "      <td>69.55</td>\n",
       "      <td>NaN</td>\n",
       "      <td>S</td>\n",
       "    </tr>\n",
       "    <tr>\n",
       "      <th>863</th>\n",
       "      <td>864</td>\n",
       "      <td>0</td>\n",
       "      <td>3</td>\n",
       "      <td>Sage, Miss. Dorothy Edith \"Dolly\"</td>\n",
       "      <td>female</td>\n",
       "      <td>NaN</td>\n",
       "      <td>8</td>\n",
       "      <td>2</td>\n",
       "      <td>CA. 2343</td>\n",
       "      <td>69.55</td>\n",
       "      <td>NaN</td>\n",
       "      <td>S</td>\n",
       "    </tr>\n",
       "  </tbody>\n",
       "</table>\n",
       "</div>"
      ],
      "text/plain": [
       "     PassengerId  Survived  Pclass                               Name     Sex  \\\n",
       "27            28         0       1     Fortune, Mr. Charles Alexander    male   \n",
       "88            89         1       1         Fortune, Miss. Mabel Helen  female   \n",
       "159          160         0       3         Sage, Master. Thomas Henry    male   \n",
       "180          181         0       3       Sage, Miss. Constance Gladys  female   \n",
       "201          202         0       3                Sage, Mr. Frederick    male   \n",
       "324          325         0       3           Sage, Mr. George John Jr    male   \n",
       "341          342         1       1     Fortune, Miss. Alice Elizabeth  female   \n",
       "792          793         0       3            Sage, Miss. Stella Anna  female   \n",
       "846          847         0       3           Sage, Mr. Douglas Bullen    male   \n",
       "863          864         0       3  Sage, Miss. Dorothy Edith \"Dolly\"  female   \n",
       "\n",
       "      Age  SibSp  Parch    Ticket    Fare        Cabin Embarked  \n",
       "27   19.0      3      2     19950  263.00  C23 C25 C27        S  \n",
       "88   23.0      3      2     19950  263.00  C23 C25 C27        S  \n",
       "159   NaN      8      2  CA. 2343   69.55          NaN        S  \n",
       "180   NaN      8      2  CA. 2343   69.55          NaN        S  \n",
       "201   NaN      8      2  CA. 2343   69.55          NaN        S  \n",
       "324   NaN      8      2  CA. 2343   69.55          NaN        S  \n",
       "341  24.0      3      2     19950  263.00  C23 C25 C27        S  \n",
       "792   NaN      8      2  CA. 2343   69.55          NaN        S  \n",
       "846   NaN      8      2  CA. 2343   69.55          NaN        S  \n",
       "863   NaN      8      2  CA. 2343   69.55          NaN        S  "
      ]
     },
     "execution_count": 4,
     "metadata": {},
     "output_type": "execute_result"
    }
   ],
   "source": [
    "# Show the outliers rows\n",
    "train.loc[Outliers_to_drop]"
   ]
  },
  {
   "cell_type": "code",
   "execution_count": 5,
   "id": "6f45bb4a-1b89-4eed-9410-a06573b47c45",
   "metadata": {},
   "outputs": [
    {
     "data": {
      "text/html": [
       "<div>\n",
       "<style scoped>\n",
       "    .dataframe tbody tr th:only-of-type {\n",
       "        vertical-align: middle;\n",
       "    }\n",
       "\n",
       "    .dataframe tbody tr th {\n",
       "        vertical-align: top;\n",
       "    }\n",
       "\n",
       "    .dataframe thead th {\n",
       "        text-align: right;\n",
       "    }\n",
       "</style>\n",
       "<table border=\"1\" class=\"dataframe\">\n",
       "  <thead>\n",
       "    <tr style=\"text-align: right;\">\n",
       "      <th></th>\n",
       "      <th>PassengerId</th>\n",
       "      <th>Survived</th>\n",
       "      <th>Pclass</th>\n",
       "      <th>Name</th>\n",
       "      <th>Sex</th>\n",
       "      <th>Age</th>\n",
       "      <th>SibSp</th>\n",
       "      <th>Parch</th>\n",
       "      <th>Ticket</th>\n",
       "      <th>Fare</th>\n",
       "      <th>Cabin</th>\n",
       "      <th>Embarked</th>\n",
       "    </tr>\n",
       "  </thead>\n",
       "  <tbody>\n",
       "    <tr>\n",
       "      <th>0</th>\n",
       "      <td>1</td>\n",
       "      <td>0</td>\n",
       "      <td>3</td>\n",
       "      <td>Braund, Mr. Owen Harris</td>\n",
       "      <td>male</td>\n",
       "      <td>22.0</td>\n",
       "      <td>1</td>\n",
       "      <td>0</td>\n",
       "      <td>A/5 21171</td>\n",
       "      <td>7.2500</td>\n",
       "      <td>NaN</td>\n",
       "      <td>S</td>\n",
       "    </tr>\n",
       "    <tr>\n",
       "      <th>1</th>\n",
       "      <td>2</td>\n",
       "      <td>1</td>\n",
       "      <td>1</td>\n",
       "      <td>Cumings, Mrs. John Bradley (Florence Briggs Th...</td>\n",
       "      <td>female</td>\n",
       "      <td>38.0</td>\n",
       "      <td>1</td>\n",
       "      <td>0</td>\n",
       "      <td>PC 17599</td>\n",
       "      <td>71.2833</td>\n",
       "      <td>C85</td>\n",
       "      <td>C</td>\n",
       "    </tr>\n",
       "    <tr>\n",
       "      <th>2</th>\n",
       "      <td>3</td>\n",
       "      <td>1</td>\n",
       "      <td>3</td>\n",
       "      <td>Heikkinen, Miss. Laina</td>\n",
       "      <td>female</td>\n",
       "      <td>26.0</td>\n",
       "      <td>0</td>\n",
       "      <td>0</td>\n",
       "      <td>STON/O2. 3101282</td>\n",
       "      <td>7.9250</td>\n",
       "      <td>NaN</td>\n",
       "      <td>S</td>\n",
       "    </tr>\n",
       "    <tr>\n",
       "      <th>3</th>\n",
       "      <td>4</td>\n",
       "      <td>1</td>\n",
       "      <td>1</td>\n",
       "      <td>Futrelle, Mrs. Jacques Heath (Lily May Peel)</td>\n",
       "      <td>female</td>\n",
       "      <td>35.0</td>\n",
       "      <td>1</td>\n",
       "      <td>0</td>\n",
       "      <td>113803</td>\n",
       "      <td>53.1000</td>\n",
       "      <td>C123</td>\n",
       "      <td>S</td>\n",
       "    </tr>\n",
       "    <tr>\n",
       "      <th>4</th>\n",
       "      <td>5</td>\n",
       "      <td>0</td>\n",
       "      <td>3</td>\n",
       "      <td>Allen, Mr. William Henry</td>\n",
       "      <td>male</td>\n",
       "      <td>35.0</td>\n",
       "      <td>0</td>\n",
       "      <td>0</td>\n",
       "      <td>373450</td>\n",
       "      <td>8.0500</td>\n",
       "      <td>NaN</td>\n",
       "      <td>S</td>\n",
       "    </tr>\n",
       "  </tbody>\n",
       "</table>\n",
       "</div>"
      ],
      "text/plain": [
       "   PassengerId  Survived  Pclass  \\\n",
       "0            1         0       3   \n",
       "1            2         1       1   \n",
       "2            3         1       3   \n",
       "3            4         1       1   \n",
       "4            5         0       3   \n",
       "\n",
       "                                                Name     Sex   Age  SibSp  \\\n",
       "0                            Braund, Mr. Owen Harris    male  22.0      1   \n",
       "1  Cumings, Mrs. John Bradley (Florence Briggs Th...  female  38.0      1   \n",
       "2                             Heikkinen, Miss. Laina  female  26.0      0   \n",
       "3       Futrelle, Mrs. Jacques Heath (Lily May Peel)  female  35.0      1   \n",
       "4                           Allen, Mr. William Henry    male  35.0      0   \n",
       "\n",
       "   Parch            Ticket     Fare Cabin Embarked  \n",
       "0      0         A/5 21171   7.2500   NaN        S  \n",
       "1      0          PC 17599  71.2833   C85        C  \n",
       "2      0  STON/O2. 3101282   7.9250   NaN        S  \n",
       "3      0            113803  53.1000  C123        S  \n",
       "4      0            373450   8.0500   NaN        S  "
      ]
     },
     "execution_count": 5,
     "metadata": {},
     "output_type": "execute_result"
    }
   ],
   "source": [
    "# Drop outliers\n",
    "train.drop(Outliers_to_drop, axis=0, inplace=True)\n",
    "train.reset_index(drop=True)\n",
    "train.head()"
   ]
  },
  {
   "cell_type": "markdown",
   "id": "2aa3dc63-932c-495e-96fa-b08d0f01b5fb",
   "metadata": {},
   "source": [
    "2.3 Joining train and test set\n",
    "\n",
    "train과 test 데이터셋을 합쳐서 categorical conversion을 위해 동일한 숫자의 feature를 갖는다"
   ]
  },
  {
   "cell_type": "code",
   "execution_count": 6,
   "id": "ea9034a7-34cd-4318-89f4-0488ca03b0f7",
   "metadata": {},
   "outputs": [
    {
     "data": {
      "text/plain": [
       "(1299, 12)"
      ]
     },
     "execution_count": 6,
     "metadata": {},
     "output_type": "execute_result"
    }
   ],
   "source": [
    "train_len = len(train)\n",
    "dataset = pd.concat([train,test], axis=0).reset_index(drop=True)\n",
    "dataset.shape"
   ]
  },
  {
   "cell_type": "markdown",
   "id": "bb9f022c-eb17-4971-b1ee-c3ba6d41fc62",
   "metadata": {},
   "source": [
    "2.4 check for null and missing values\n",
    "\n",
    "Age와 Cabin은 결측값 처리가 굉장히 중요하다.\n",
    "survived는 test 데이터를 합쳐서 생긴 것이므로 괜찮"
   ]
  },
  {
   "cell_type": "code",
   "execution_count": 7,
   "id": "69358a97-7bfa-40a3-8c63-e322ea3aa47d",
   "metadata": {},
   "outputs": [
    {
     "data": {
      "text/plain": [
       "PassengerId       0\n",
       "Survived        418\n",
       "Pclass            0\n",
       "Name              0\n",
       "Sex               0\n",
       "Age             256\n",
       "SibSp             0\n",
       "Parch             0\n",
       "Ticket            0\n",
       "Fare              1\n",
       "Cabin          1007\n",
       "Embarked          2\n",
       "dtype: int64"
      ]
     },
     "execution_count": 7,
     "metadata": {},
     "output_type": "execute_result"
    }
   ],
   "source": [
    "dataset.isnull().sum()"
   ]
  },
  {
   "cell_type": "code",
   "execution_count": 8,
   "id": "814abeb1-2c9b-493a-8fa1-8b41e4d210b5",
   "metadata": {},
   "outputs": [
    {
     "name": "stdout",
     "output_type": "stream",
     "text": [
      "<class 'pandas.core.frame.DataFrame'>\n",
      "Int64Index: 881 entries, 0 to 890\n",
      "Data columns (total 12 columns):\n",
      " #   Column       Non-Null Count  Dtype  \n",
      "---  ------       --------------  -----  \n",
      " 0   PassengerId  881 non-null    int64  \n",
      " 1   Survived     881 non-null    int64  \n",
      " 2   Pclass       881 non-null    int64  \n",
      " 3   Name         881 non-null    object \n",
      " 4   Sex          881 non-null    object \n",
      " 5   Age          711 non-null    float64\n",
      " 6   SibSp        881 non-null    int64  \n",
      " 7   Parch        881 non-null    int64  \n",
      " 8   Ticket       881 non-null    object \n",
      " 9   Fare         881 non-null    float64\n",
      " 10  Cabin        201 non-null    object \n",
      " 11  Embarked     879 non-null    object \n",
      "dtypes: float64(2), int64(5), object(5)\n",
      "memory usage: 89.5+ KB\n"
     ]
    }
   ],
   "source": [
    "train.info()"
   ]
  },
  {
   "cell_type": "code",
   "execution_count": 9,
   "id": "eddf40f8-a8f8-4a1d-bb4f-93416ba29ee3",
   "metadata": {},
   "outputs": [
    {
     "data": {
      "text/plain": [
       "PassengerId      int64\n",
       "Survived         int64\n",
       "Pclass           int64\n",
       "Name            object\n",
       "Sex             object\n",
       "Age            float64\n",
       "SibSp            int64\n",
       "Parch            int64\n",
       "Ticket          object\n",
       "Fare           float64\n",
       "Cabin           object\n",
       "Embarked        object\n",
       "dtype: object"
      ]
     },
     "execution_count": 9,
     "metadata": {},
     "output_type": "execute_result"
    }
   ],
   "source": [
    "train.dtypes"
   ]
  },
  {
   "cell_type": "markdown",
   "id": "85de1628-fa1d-48d3-b7d1-1cd87fbfa468",
   "metadata": {},
   "source": [
    "# 3. Feature analysis"
   ]
  },
  {
   "cell_type": "markdown",
   "id": "afc01399-e475-4f0d-a987-855408aa818a",
   "metadata": {},
   "source": [
    "## 3.1 Numerical values\n",
    "\n",
    "- 오직 Fare만 생존과 어느정도 상관관계가 있는 것으로 보임\n",
    "- 이것이 다른 변수가 쓸모 없다는 말은 아니다. subpopulations는 생존과 연관이 있을 수 있음. 이를 확인하기 위해 우리는 더 깊이 살펴볼 필요가 있음"
   ]
  },
  {
   "cell_type": "code",
   "execution_count": 10,
   "id": "9db417ec-c6fc-48ff-b16a-6595a5b078ff",
   "metadata": {},
   "outputs": [
    {
     "data": {
      "image/png": "[encoded data removed]",
      "text/plain": [
       "<Figure size 504x504 with 2 Axes>"
      ]
     },
     "metadata": {},
     "output_type": "display_data"
    }
   ],
   "source": [
    "# Correlation matrix between numerical values\n",
    "numerical = ['Survived', 'SibSp', 'Parch', 'Age', 'Fare']\n",
    "corr = train[numerical].corr('pearson')\n",
    "sns.heatmap(corr, annot=True, fmt='.2f', cmap='coolwarm')\n",
    "fig = plt.gcf()\n",
    "fig.set_size_inches(7, 7)\n",
    "plt.show()"
   ]
  },
  {
   "cell_type": "markdown",
   "id": "a248fe0b-2a94-4a2f-a4d8-6eaa85536884",
   "metadata": {},
   "source": [
    "- 관측결과\n",
    "\n",
    "Survived는 Numerical feature중에서 Fare와만 약간의 상관관계가 있어 보임. 하지만 이것이 다른 feature는 중요하지 않다를 의미하지는 않음. 좀 더 자세히 살펴보자"
   ]
  },
  {
   "cell_type": "markdown",
   "id": "8bd05e79-59b2-4247-808a-8e337c325bc7",
   "metadata": {},
   "source": [
    "### SibSp"
   ]
  },
  {
   "cell_type": "code",
   "execution_count": 11,
   "id": "cf6f9285-63df-47c9-92d1-590d7b842af8",
   "metadata": {},
   "outputs": [],
   "source": [
    "import warnings\n",
    "warnings.filterwarnings('ignore')"
   ]
  },
  {
   "cell_type": "code",
   "execution_count": 12,
   "id": "b2fdf4ba-47d2-4b66-b279-8eb3eb0204b0",
   "metadata": {},
   "outputs": [
    {
     "data": {
      "image/png": "[encoded data removed]",
      "text/plain": [
       "<Figure size 1296x576 with 2 Axes>"
      ]
     },
     "metadata": {},
     "output_type": "display_data"
    }
   ],
   "source": [
    "f, ax = plt.subplots(1,2, figsize=(18,8))\n",
    "sns.pointplot('SibSp', 'Survived', data=train, ax=ax[0])\n",
    "ax[0].set_title('Survived vs SibSp')\n",
    "sns.barplot('SibSp', 'Survived', data=train, ax=ax[1])\n",
    "ax[1].set_title('Survived vs SibSp')\n",
    "plt.show()"
   ]
  },
  {
   "cell_type": "markdown",
   "id": "030b0bb2-c09e-4231-91d1-ebef5184c86d",
   "metadata": {},
   "source": [
    "- 관측 결과\n",
    "\n",
    "1) SibSp: 형제 혹은 배우자의 수를 의미하는 변수로 3이 넘어가면 생존률이 굉장히 낮아지는 것을 확인할 수 있음\n",
    "2) 0은 혼자 탑승한 것으로 오히려 1과 2보다 낮은 것을 알 수 있음"
   ]
  },
  {
   "cell_type": "markdown",
   "id": "9f403624-cb05-46eb-a01a-aaa7dd5a5540",
   "metadata": {},
   "source": [
    "### Parch"
   ]
  },
  {
   "cell_type": "code",
   "execution_count": 13,
   "id": "8e9fbdce-669b-4c27-8128-edd7c33e9de3",
   "metadata": {},
   "outputs": [
    {
     "data": {
      "image/png": "[encoded data removed]",
      "text/plain": [
       "<Figure size 1296x576 with 2 Axes>"
      ]
     },
     "metadata": {},
     "output_type": "display_data"
    }
   ],
   "source": [
    "f, ax = plt.subplots(1, 2, figsize=(18,8))\n",
    "sns.pointplot('Parch', 'Survived', data=train, ax=ax[0])\n",
    "ax[0].set_title('Survived vs Parch')\n",
    "sns.barplot('Parch', 'Survived', data=train, ax=ax[1])\n",
    "ax[1].set_title('Survived vs Parch')\n",
    "plt.show()"
   ]
  },
  {
   "cell_type": "markdown",
   "id": "3406c599-6d0e-4187-ad08-a4be41fb7d69",
   "metadata": {},
   "source": [
    "- 관측 결과\n",
    "1) Parch는 부모 세대의 수로 4가 넘어가면 굉장히 확률이 낮아지는 것을 확인할 수 있음.\n",
    "2) 0은 혼자 탑승한 것으로 오히려 1,2,3 보다 낮은 것을 확인할 수 있다.\n",
    "3) SibSp과 굉장히 유사한 변수이고 서로 비슷한 경향을 보여줌\n",
    "4) 상관관계도 0.38로 두 변수가 서로 관계되어 있음"
   ]
  },
  {
   "cell_type": "markdown",
   "id": "e2f70d33-3a4d-4295-87a3-c666770ae752",
   "metadata": {},
   "source": [
    "### Age"
   ]
  },
  {
   "cell_type": "code",
   "execution_count": 14,
   "id": "8be35d1e-f769-46f8-b020-d638340e501b",
   "metadata": {},
   "outputs": [
    {
     "data": {
      "image/png": "[encoded data removed]",
      "text/plain": [
       "<Figure size 1296x720 with 2 Axes>"
      ]
     },
     "metadata": {},
     "output_type": "display_data"
    }
   ],
   "source": [
    "f, ax = plt.subplots(1,2, figsize=(18,10))\n",
    "\n",
    "train[train['Survived']==0]['Age'].plot.hist(ax=ax[0], color='red')\n",
    "ax[0].set_title('Survived: 0')\n",
    "\n",
    "train[train['Survived']==1]['Age'].plot.hist(ax=ax[1], color='blue')\n",
    "ax[1].set_title('Survived: 1')\n",
    "plt.show()"
   ]
  },
  {
   "cell_type": "code",
   "execution_count": 15,
   "id": "42a7e848-47f8-4d6d-bbe3-cf7eeb36f16e",
   "metadata": {},
   "outputs": [
    {
     "data": {
      "image/png": "[encoded data removed]",
      "text/plain": [
       "<Figure size 432x288 with 1 Axes>"
      ]
     },
     "metadata": {},
     "output_type": "display_data"
    }
   ],
   "source": [
    "plt.title(\"Survived vs Age\")\n",
    "train[train['Survived']==0]['Age'].plot.kde(color='red', label='Dead')\n",
    "train[train['Survived']==1]['Age'].plot.kde(color='blue', label='Surival')\n",
    "plt.legend()\n",
    "plt.ylabel('Survival[Freq]')\n",
    "plt.xlabel('Age')\n",
    "plt.show()"
   ]
  },
  {
   "cell_type": "markdown",
   "id": "f4b7985a-addc-4f0a-9149-45f1dbd1ed3d",
   "metadata": {},
   "source": [
    "- 관측결과:\n",
    "1) 약 10-20세(2개의 bins) 사이의 연령은 많이 생존함 특히, 0~10세 사이가 두드러짐\n",
    "2) 60대 이상의 노인층은 거의 생존 못하심...\n",
    "3) 젊은 층(20-40)은 반반\n",
    "4) 생존과 나이의 증가(혹은 감소)는 직접적인 상관관계는 없지만 1, 2를 바탕으로 영향을 준다는 것은 알 수 있음"
   ]
  },
  {
   "cell_type": "markdown",
   "id": "f572645d-892e-46f3-a52d-cb5a6b908ea5",
   "metadata": {},
   "source": [
    "### Fare"
   ]
  },
  {
   "cell_type": "code",
   "execution_count": 16,
   "id": "f3ce735c-dcc1-484c-a26f-15a3db4b1ffe",
   "metadata": {},
   "outputs": [
    {
     "data": {
      "text/plain": [
       "0"
      ]
     },
     "execution_count": 16,
     "metadata": {},
     "output_type": "execute_result"
    }
   ],
   "source": [
    "train['Fare'].isnull().sum()"
   ]
  },
  {
   "cell_type": "code",
   "execution_count": 17,
   "id": "6b74dbb1-33ca-4290-a60b-203277cfc2f0",
   "metadata": {},
   "outputs": [
    {
     "data": {
      "text/plain": [
       "5.058014586919519"
      ]
     },
     "execution_count": 17,
     "metadata": {},
     "output_type": "execute_result"
    }
   ],
   "source": [
    "train['Fare'].skew()"
   ]
  },
  {
   "cell_type": "code",
   "execution_count": 18,
   "id": "5f3e33c8-13f4-4d1a-97ce-c18e42166bbb",
   "metadata": {},
   "outputs": [
    {
     "data": {
      "image/png": "[encoded data removed]",
      "text/plain": [
       "<Figure size 432x288 with 1 Axes>"
      ]
     },
     "metadata": {},
     "output_type": "display_data"
    }
   ],
   "source": [
    "sns.distplot(train['Fare'], label=f'Skewness: %.2f'%(train['Fare'].skew()) )\n",
    "plt.legend()\n",
    "plt.show()"
   ]
  },
  {
   "cell_type": "code",
   "execution_count": 19,
   "id": "a521abf1-2b67-4f04-813d-21c355e45b99",
   "metadata": {},
   "outputs": [],
   "source": [
    "train['Fare'].fillna(train['Fare'].median(), inplace=True)"
   ]
  },
  {
   "cell_type": "code",
   "execution_count": 20,
   "id": "29e7d32a-1d1e-4502-94f4-d79413f6ca28",
   "metadata": {},
   "outputs": [
    {
     "data": {
      "image/png": "[encoded data removed]",
      "text/plain": [
       "<Figure size 432x288 with 1 Axes>"
      ]
     },
     "metadata": {},
     "output_type": "display_data"
    }
   ],
   "source": [
    "train['Fare'] = train['Fare'].map(lambda x: np.log(x) if x>0 else 0)\n",
    "sns.distplot(train['Fare'], label=f'Skewness: %.2f'%(train['Fare'].skew()))\n",
    "plt.legend()\n",
    "plt.show()"
   ]
  },
  {
   "cell_type": "markdown",
   "id": "baaa1345-9db5-436c-8ca8-a8025438d8c7",
   "metadata": {},
   "source": [
    "- 관측 결과:\n",
    "1) 굉장히 한쪽으로 치우친 것을 확인할 수 있다.\n",
    "2) 이를 바탕으로 결측 값은 최빈값(median)으로 처리한다.\n",
    "3) 모델을 학습할 때, overweight를 야기시킬 수 있음(skew)\n",
    "4) log를 적용하여 펴주는 효과"
   ]
  },
  {
   "cell_type": "markdown",
   "id": "ad622720-035d-43e5-bd79-d3f7fed26e58",
   "metadata": {},
   "source": [
    "## 3.2 Categorical values"
   ]
  },
  {
   "cell_type": "markdown",
   "id": "fd07a4a3-7cff-4f80-9654-6f86b3811c42",
   "metadata": {},
   "source": [
    "### Sex"
   ]
  },
  {
   "cell_type": "code",
   "execution_count": 21,
   "id": "8984d78e-d090-4a53-9a98-295df651d338",
   "metadata": {},
   "outputs": [
    {
     "data": {
      "image/png": "[encoded data removed]",
      "text/plain": [
       "<Figure size 432x288 with 1 Axes>"
      ]
     },
     "metadata": {},
     "output_type": "display_data"
    }
   ],
   "source": [
    "# f, ax = plt.subplots(1, 2, figsize=(18,8))\n",
    "sns.barplot('Sex', 'Survived', data=train)\n",
    "plt.show()"
   ]
  },
  {
   "cell_type": "code",
   "execution_count": 22,
   "id": "e4f964ff-1dcb-41bd-8d3d-9a1a00962673",
   "metadata": {},
   "outputs": [
    {
     "data": {
      "text/html": [
       "<div>\n",
       "<style scoped>\n",
       "    .dataframe tbody tr th:only-of-type {\n",
       "        vertical-align: middle;\n",
       "    }\n",
       "\n",
       "    .dataframe tbody tr th {\n",
       "        vertical-align: top;\n",
       "    }\n",
       "\n",
       "    .dataframe thead th {\n",
       "        text-align: right;\n",
       "    }\n",
       "</style>\n",
       "<table border=\"1\" class=\"dataframe\">\n",
       "  <thead>\n",
       "    <tr style=\"text-align: right;\">\n",
       "      <th></th>\n",
       "      <th>Survived</th>\n",
       "    </tr>\n",
       "    <tr>\n",
       "      <th>Sex</th>\n",
       "      <th></th>\n",
       "    </tr>\n",
       "  </thead>\n",
       "  <tbody>\n",
       "    <tr>\n",
       "      <th>female</th>\n",
       "      <td>0.747573</td>\n",
       "    </tr>\n",
       "    <tr>\n",
       "      <th>male</th>\n",
       "      <td>0.190559</td>\n",
       "    </tr>\n",
       "  </tbody>\n",
       "</table>\n",
       "</div>"
      ],
      "text/plain": [
       "        Survived\n",
       "Sex             \n",
       "female  0.747573\n",
       "male    0.190559"
      ]
     },
     "execution_count": 22,
     "metadata": {},
     "output_type": "execute_result"
    }
   ],
   "source": [
    "train[['Sex','Survived']].groupby('Sex').mean()"
   ]
  },
  {
   "cell_type": "markdown",
   "id": "637019ac-eec5-40a6-918d-b436d97b45fa",
   "metadata": {},
   "source": [
    "- 관측결과:\n",
    "1) 남성이 여성보다 생존률이 낮음\n",
    "2) 이는 생존 예측에 굉장히 중요한 변수로 작동함\n",
    "3) Women and children first in 1997"
   ]
  },
  {
   "cell_type": "markdown",
   "id": "c78e4a68-e99d-4c2c-9f89-b702d48a5501",
   "metadata": {},
   "source": [
    "### Pclass"
   ]
  },
  {
   "cell_type": "code",
   "execution_count": 23,
   "id": "e742fd93-1bc0-48ee-813e-8c1540fff97a",
   "metadata": {},
   "outputs": [
    {
     "data": {
      "text/html": [
       "<style type=\"text/css\">\n",
       "#T_b0c36_row0_col0, #T_b0c36_row1_col1, #T_b0c36_row1_col2 {\n",
       "  background-color: #ffff66;\n",
       "  color: #000000;\n",
       "}\n",
       "#T_b0c36_row0_col1 {\n",
       "  background-color: #d0e866;\n",
       "  color: #000000;\n",
       "}\n",
       "#T_b0c36_row0_col2 {\n",
       "  background-color: #f5fa66;\n",
       "  color: #000000;\n",
       "}\n",
       "#T_b0c36_row1_col0 {\n",
       "  background-color: #f6fa66;\n",
       "  color: #000000;\n",
       "}\n",
       "#T_b0c36_row2_col0 {\n",
       "  background-color: #61b066;\n",
       "  color: #f1f1f1;\n",
       "}\n",
       "#T_b0c36_row2_col1 {\n",
       "  background-color: #dfef66;\n",
       "  color: #000000;\n",
       "}\n",
       "#T_b0c36_row2_col2 {\n",
       "  background-color: #91c866;\n",
       "  color: #000000;\n",
       "}\n",
       "#T_b0c36_row3_col0, #T_b0c36_row3_col1, #T_b0c36_row3_col2 {\n",
       "  background-color: #008066;\n",
       "  color: #f1f1f1;\n",
       "}\n",
       "</style>\n",
       "<table id=\"T_b0c36\">\n",
       "  <thead>\n",
       "    <tr>\n",
       "      <th class=\"index_name level0\" >Survived</th>\n",
       "      <th id=\"T_b0c36_level0_col0\" class=\"col_heading level0 col0\" >0</th>\n",
       "      <th id=\"T_b0c36_level0_col1\" class=\"col_heading level0 col1\" >1</th>\n",
       "      <th id=\"T_b0c36_level0_col2\" class=\"col_heading level0 col2\" >All</th>\n",
       "    </tr>\n",
       "    <tr>\n",
       "      <th class=\"index_name level0\" >Pclass</th>\n",
       "      <th class=\"blank col0\" >&nbsp;</th>\n",
       "      <th class=\"blank col1\" >&nbsp;</th>\n",
       "      <th class=\"blank col2\" >&nbsp;</th>\n",
       "    </tr>\n",
       "  </thead>\n",
       "  <tbody>\n",
       "    <tr>\n",
       "      <th id=\"T_b0c36_level0_row0\" class=\"row_heading level0 row0\" >1</th>\n",
       "      <td id=\"T_b0c36_row0_col0\" class=\"data row0 col0\" >79</td>\n",
       "      <td id=\"T_b0c36_row0_col1\" class=\"data row0 col1\" >134</td>\n",
       "      <td id=\"T_b0c36_row0_col2\" class=\"data row0 col2\" >213</td>\n",
       "    </tr>\n",
       "    <tr>\n",
       "      <th id=\"T_b0c36_level0_row1\" class=\"row_heading level0 row1\" >2</th>\n",
       "      <td id=\"T_b0c36_row1_col0\" class=\"data row1 col0\" >97</td>\n",
       "      <td id=\"T_b0c36_row1_col1\" class=\"data row1 col1\" >87</td>\n",
       "      <td id=\"T_b0c36_row1_col2\" class=\"data row1 col2\" >184</td>\n",
       "    </tr>\n",
       "    <tr>\n",
       "      <th id=\"T_b0c36_level0_row2\" class=\"row_heading level0 row2\" >3</th>\n",
       "      <td id=\"T_b0c36_row2_col0\" class=\"data row2 col0\" >365</td>\n",
       "      <td id=\"T_b0c36_row2_col1\" class=\"data row2 col1\" >119</td>\n",
       "      <td id=\"T_b0c36_row2_col2\" class=\"data row2 col2\" >484</td>\n",
       "    </tr>\n",
       "    <tr>\n",
       "      <th id=\"T_b0c36_level0_row3\" class=\"row_heading level0 row3\" >All</th>\n",
       "      <td id=\"T_b0c36_row3_col0\" class=\"data row3 col0\" >541</td>\n",
       "      <td id=\"T_b0c36_row3_col1\" class=\"data row3 col1\" >340</td>\n",
       "      <td id=\"T_b0c36_row3_col2\" class=\"data row3 col2\" >881</td>\n",
       "    </tr>\n",
       "  </tbody>\n",
       "</table>\n"
      ],
      "text/plain": [
       "<pandas.io.formats.style.Styler at 0x16073177e50>"
      ]
     },
     "execution_count": 23,
     "metadata": {},
     "output_type": "execute_result"
    }
   ],
   "source": [
    "pd.crosstab(train.Pclass, train.Survived, margins=True).style.background_gradient(cmap='summer_r')"
   ]
  },
  {
   "cell_type": "code",
   "execution_count": 24,
   "id": "1964ce3f-c0bc-4e70-93ca-23ffe1171d67",
   "metadata": {},
   "outputs": [
    {
     "data": {
      "image/png": "[encoded data removed]",
      "text/plain": [
       "<Figure size 1296x576 with 2 Axes>"
      ]
     },
     "metadata": {},
     "output_type": "display_data"
    }
   ],
   "source": [
    "f, ax = plt.subplots(1,2, figsize=(18,8))\n",
    "sns.barplot('Pclass', 'Survived', data=train, ax=ax[0])\n",
    "ax[0].set_title('Survival vs Pclass')\n",
    "sns.pointplot('Pclass', 'Survived', data=train, ax=ax[1])\n",
    "ax[1].set_title('Survival vs Pclass')\n",
    "plt.show()"
   ]
  },
  {
   "cell_type": "code",
   "execution_count": 25,
   "id": "18929d8f-b41d-4c5e-948f-34736b08a746",
   "metadata": {},
   "outputs": [
    {
     "data": {
      "image/png": "[encoded data removed]",
      "text/plain": [
       "<Figure size 432.85x360 with 1 Axes>"
      ]
     },
     "metadata": {},
     "output_type": "display_data"
    }
   ],
   "source": [
    "sns.factorplot('Pclass', 'Survived', hue='Sex', data=train)\n",
    "plt.title('Survival vs Pclass and Sex')\n",
    "plt.show()"
   ]
  },
  {
   "cell_type": "code",
   "execution_count": 26,
   "id": "05ba63c3-81b8-414e-a409-9794fa147207",
   "metadata": {},
   "outputs": [
    {
     "name": "stdout",
     "output_type": "stream",
     "text": [
      "1 class | Fare average:[4.05779615] std:[0.94339143]\n",
      "2 class | Fare average:[2.83105883] std:[0.7109209]\n",
      "3 class | Fare average:[2.36938184] std:[0.57073771]\n"
     ]
    },
    {
     "data": {
      "image/png": "[encoded data removed]",
      "text/plain": [
       "<Figure size 432x288 with 1 Axes>"
      ]
     },
     "metadata": {},
     "output_type": "display_data"
    }
   ],
   "source": [
    "mean, std = train[['Pclass','Fare']].groupby('Pclass').mean(), train[['Pclass','Fare']].groupby('Pclass').std()\n",
    "for i in range(3):\n",
    "    print(f'{i+1} class | Fare average:{mean.values[i]} std:{std.values[i]}')\n",
    "    plt.bar(str(i+1), mean.values[i][0])\n",
    "    \n",
    "plt.xlabel('Pclass')\n",
    "plt.ylabel('Averaged Fare')\n",
    "plt.show()"
   ]
  },
  {
   "cell_type": "markdown",
   "id": "62411487-65da-4b17-bdee-7b44522dad66",
   "metadata": {},
   "source": [
    "- 관측 결과:\n",
    "1) 등급이 높을 수록 생존률이 떨어진다\n",
    "2) 좌석 등급(Pclass) $\\rightarrow$ 요금(Fare)"
   ]
  },
  {
   "cell_type": "markdown",
   "id": "78bd9fec-cb71-4da4-8441-47a2f2802d9a",
   "metadata": {},
   "source": [
    "### Embarked"
   ]
  },
  {
   "cell_type": "code",
   "execution_count": 27,
   "id": "13ca67ee-80ac-4a4f-8249-4353a59166e5",
   "metadata": {},
   "outputs": [
    {
     "data": {
      "text/plain": [
       "2"
      ]
     },
     "execution_count": 27,
     "metadata": {},
     "output_type": "execute_result"
    }
   ],
   "source": [
    "train['Embarked'].isnull().sum()"
   ]
  },
  {
   "cell_type": "code",
   "execution_count": 28,
   "id": "c866aaee-9ddf-46e3-a573-3359b77781e2",
   "metadata": {},
   "outputs": [
    {
     "data": {
      "image/png": "[encoded data removed]",
      "text/plain": [
       "<Figure size 432x288 with 1 Axes>"
      ]
     },
     "metadata": {},
     "output_type": "display_data"
    }
   ],
   "source": [
    "train['Embarked'].value_counts().plot.bar(color=['red','green','blue'])\n",
    "plt.ylabel('Count')\n",
    "plt.show()"
   ]
  },
  {
   "cell_type": "code",
   "execution_count": 29,
   "id": "325885df-f279-44bc-932e-5f858187d001",
   "metadata": {},
   "outputs": [],
   "source": [
    "train['Embarked'].fillna('S', inplace=True)"
   ]
  },
  {
   "cell_type": "code",
   "execution_count": 30,
   "id": "f39a8318-61a2-4a9a-a5cc-c960ee3c9705",
   "metadata": {},
   "outputs": [
    {
     "data": {
      "text/plain": [
       "(0      S\n",
       " 1      C\n",
       " 2      S\n",
       " 3      S\n",
       " 4      S\n",
       "       ..\n",
       " 886    S\n",
       " 887    S\n",
       " 888    S\n",
       " 889    C\n",
       " 890    Q\n",
       " Name: Embarked, Length: 881, dtype: object,\n",
       " 0      0\n",
       " 1      1\n",
       " 2      1\n",
       " 3      1\n",
       " 4      0\n",
       "       ..\n",
       " 886    0\n",
       " 887    1\n",
       " 888    0\n",
       " 889    1\n",
       " 890    0\n",
       " Name: Survived, Length: 881, dtype: int64)"
      ]
     },
     "execution_count": 30,
     "metadata": {},
     "output_type": "execute_result"
    }
   ],
   "source": [
    "train.Embarked, train.Survived"
   ]
  },
  {
   "cell_type": "code",
   "execution_count": 31,
   "id": "a48bda4f-c69b-4151-97f1-ab99b896ac8e",
   "metadata": {},
   "outputs": [
    {
     "data": {
      "text/html": [
       "<style type=\"text/css\">\n",
       "#T_6d3a9_row0_col0 {\n",
       "  background-color: #f1f866;\n",
       "  color: #000000;\n",
       "}\n",
       "#T_6d3a9_row0_col1 {\n",
       "  background-color: #cbe566;\n",
       "  color: #000000;\n",
       "}\n",
       "#T_6d3a9_row0_col2 {\n",
       "  background-color: #e3f166;\n",
       "  color: #000000;\n",
       "}\n",
       "#T_6d3a9_row1_col0, #T_6d3a9_row1_col1, #T_6d3a9_row1_col2 {\n",
       "  background-color: #ffff66;\n",
       "  color: #000000;\n",
       "}\n",
       "#T_6d3a9_row2_col0 {\n",
       "  background-color: #3f9f66;\n",
       "  color: #f1f1f1;\n",
       "}\n",
       "#T_6d3a9_row2_col1 {\n",
       "  background-color: #65b266;\n",
       "  color: #f1f1f1;\n",
       "}\n",
       "#T_6d3a9_row2_col2 {\n",
       "  background-color: #4ea666;\n",
       "  color: #f1f1f1;\n",
       "}\n",
       "#T_6d3a9_row3_col0, #T_6d3a9_row3_col1, #T_6d3a9_row3_col2 {\n",
       "  background-color: #008066;\n",
       "  color: #f1f1f1;\n",
       "}\n",
       "</style>\n",
       "<table id=\"T_6d3a9\">\n",
       "  <thead>\n",
       "    <tr>\n",
       "      <th class=\"index_name level0\" >Survived</th>\n",
       "      <th id=\"T_6d3a9_level0_col0\" class=\"col_heading level0 col0\" >0</th>\n",
       "      <th id=\"T_6d3a9_level0_col1\" class=\"col_heading level0 col1\" >1</th>\n",
       "      <th id=\"T_6d3a9_level0_col2\" class=\"col_heading level0 col2\" >All</th>\n",
       "    </tr>\n",
       "    <tr>\n",
       "      <th class=\"index_name level0\" >Embarked</th>\n",
       "      <th class=\"blank col0\" >&nbsp;</th>\n",
       "      <th class=\"blank col1\" >&nbsp;</th>\n",
       "      <th class=\"blank col2\" >&nbsp;</th>\n",
       "    </tr>\n",
       "  </thead>\n",
       "  <tbody>\n",
       "    <tr>\n",
       "      <th id=\"T_6d3a9_level0_row0\" class=\"row_heading level0 row0\" >C</th>\n",
       "      <td id=\"T_6d3a9_row0_col0\" class=\"data row0 col0\" >75</td>\n",
       "      <td id=\"T_6d3a9_row0_col1\" class=\"data row0 col1\" >93</td>\n",
       "      <td id=\"T_6d3a9_row0_col2\" class=\"data row0 col2\" >168</td>\n",
       "    </tr>\n",
       "    <tr>\n",
       "      <th id=\"T_6d3a9_level0_row1\" class=\"row_heading level0 row1\" >Q</th>\n",
       "      <td id=\"T_6d3a9_row1_col0\" class=\"data row1 col0\" >47</td>\n",
       "      <td id=\"T_6d3a9_row1_col1\" class=\"data row1 col1\" >30</td>\n",
       "      <td id=\"T_6d3a9_row1_col2\" class=\"data row1 col2\" >77</td>\n",
       "    </tr>\n",
       "    <tr>\n",
       "      <th id=\"T_6d3a9_level0_row2\" class=\"row_heading level0 row2\" >S</th>\n",
       "      <td id=\"T_6d3a9_row2_col0\" class=\"data row2 col0\" >419</td>\n",
       "      <td id=\"T_6d3a9_row2_col1\" class=\"data row2 col1\" >217</td>\n",
       "      <td id=\"T_6d3a9_row2_col2\" class=\"data row2 col2\" >636</td>\n",
       "    </tr>\n",
       "    <tr>\n",
       "      <th id=\"T_6d3a9_level0_row3\" class=\"row_heading level0 row3\" >All</th>\n",
       "      <td id=\"T_6d3a9_row3_col0\" class=\"data row3 col0\" >541</td>\n",
       "      <td id=\"T_6d3a9_row3_col1\" class=\"data row3 col1\" >340</td>\n",
       "      <td id=\"T_6d3a9_row3_col2\" class=\"data row3 col2\" >881</td>\n",
       "    </tr>\n",
       "  </tbody>\n",
       "</table>\n"
      ],
      "text/plain": [
       "<pandas.io.formats.style.Styler at 0x16072da7fd0>"
      ]
     },
     "execution_count": 31,
     "metadata": {},
     "output_type": "execute_result"
    }
   ],
   "source": [
    "pd.crosstab(train.Embarked, train.Survived, margins=True).style.background_gradient(cmap='summer_r')"
   ]
  },
  {
   "cell_type": "code",
   "execution_count": 32,
   "id": "9ba8db22-2bd0-4bd1-a80c-966ca98ffd9b",
   "metadata": {},
   "outputs": [
    {
     "data": {
      "image/png": "[encoded data removed]",
      "text/plain": [
       "<Figure size 1296x576 with 2 Axes>"
      ]
     },
     "metadata": {},
     "output_type": "display_data"
    }
   ],
   "source": [
    "f, ax = plt.subplots(1,2, figsize=(18,8))\n",
    "\n",
    "sns.barplot('Embarked', 'Survived', data=train, ax=ax[0])\n",
    "ax[0].set_title('Survival vs Embarked')\n",
    "\n",
    "sns.pointplot('Embarked', 'Survived', data=train, ax=ax[1])\n",
    "ax[1].set_title('Survival vs Embarked')\n",
    "\n",
    "plt.show()\n"
   ]
  },
  {
   "cell_type": "code",
   "execution_count": 33,
   "id": "5bb1caea-55e8-4061-97c3-8dc923f5d5fe",
   "metadata": {},
   "outputs": [
    {
     "data": {
      "image/png": "[encoded data removed]",
      "text/plain": [
       "<Figure size 1080x360 with 3 Axes>"
      ]
     },
     "metadata": {},
     "output_type": "display_data"
    }
   ],
   "source": [
    "sns.factorplot('Pclass', col='Embarked', data=train, kind='count')\n",
    "plt.show()"
   ]
  },
  {
   "cell_type": "markdown",
   "id": "d32aba31-1555-4c4f-9d45-b72909302bd3",
   "metadata": {},
   "source": [
    "- 관측결과:\n",
    "1) C가 가장 많이 살았고 S가 가장 많이 죽음\n",
    "2) C의 경우 확실히 class1의 비율이 많음 $\\rightarrow$ 많이 생존 원인\n",
    "3) S의 경우 class3의 비율이 압도적임 $\\rightarrow$ 많이 죽은 원인\n",
    "4) Q의 경우 class3의 비율이 압도적인데 많이 살았음(행운인듯?)"
   ]
  },
  {
   "cell_type": "markdown",
   "id": "6f8b4532-1a0f-46ab-820f-8ea582b4d857",
   "metadata": {},
   "source": [
    "## 4. Filling missing values"
   ]
  },
  {
   "cell_type": "markdown",
   "id": "ad14ffd9-aa57-4c9b-948e-f41b84c93e19",
   "metadata": {
    "tags": []
   },
   "source": [
    "### 4.1 Age\n",
    "전체 데이터 셋에는 256개의 결측값이 존재. 이를 해결하기 위해 나이와 관견된 Sex, Parch, Pclass and SibSp을 살펴보자"
   ]
  },
  {
   "cell_type": "code",
   "execution_count": 34,
   "id": "94cfd596-a351-4a67-ac59-3f1b0ccf750b",
   "metadata": {},
   "outputs": [
    {
     "data": {
      "text/plain": [
       "<seaborn.axisgrid.FacetGrid at 0x16074ae76a0>"
      ]
     },
     "execution_count": 34,
     "metadata": {},
     "output_type": "execute_result"
    },
    {
     "data": {
      "image/png": "[encoded data removed]",
      "text/plain": [
       "<Figure size 360x360 with 1 Axes>"
      ]
     },
     "metadata": {},
     "output_type": "display_data"
    },
    {
     "data": {
      "image/png": "[encoded data removed]",
      "text/plain": [
       "<Figure size 405.725x360 with 1 Axes>"
      ]
     },
     "metadata": {},
     "output_type": "display_data"
    },
    {
     "data": {
      "image/png": "[encoded data removed]",
      "text/plain": [
       "<Figure size 360x360 with 1 Axes>"
      ]
     },
     "metadata": {},
     "output_type": "display_data"
    },
    {
     "data": {
      "image/png": "[encoded data removed]",
      "text/plain": [
       "<Figure size 360x360 with 1 Axes>"
      ]
     },
     "metadata": {},
     "output_type": "display_data"
    }
   ],
   "source": [
    "sns.factorplot(y='Age', x='Sex', data=dataset, kind='box')\n",
    "sns.factorplot(y='Age', x='Sex', hue='Pclass', data=dataset, kind='box')\n",
    "sns.factorplot(y='Age', x='Parch', data=dataset, kind='box')\n",
    "sns.factorplot(y='Age', x='SibSp', data=dataset, kind='box')"
   ]
  },
  {
   "cell_type": "markdown",
   "id": "e8559de2-bf50-4b2c-9f47-b706e5b5af9b",
   "metadata": {},
   "source": [
    "- 관측 결과:\n",
    "1) 나이는 남성과 여성의 하위인구와 유사한 모습. 적절하지 않음\n",
    "2) Pclass에 따라 음의 상관 관계를 보임"
   ]
  },
  {
   "cell_type": "code",
   "execution_count": 35,
   "id": "c676f872-7adc-41b3-b06b-abb7e6d90684",
   "metadata": {},
   "outputs": [],
   "source": [
    "# convert Sex into categorical value 0 for male and 1 for female\n",
    "dataset['Sex'] = dataset['Sex'].map({'male':0, 'female':1})\n"
   ]
  },
  {
   "cell_type": "code",
   "execution_count": 36,
   "id": "bb2e307f-9a87-47b3-87f9-acfd36dd55e8",
   "metadata": {},
   "outputs": [
    {
     "data": {
      "text/plain": [
       "<AxesSubplot:>"
      ]
     },
     "execution_count": 36,
     "metadata": {},
     "output_type": "execute_result"
    },
    {
     "data": {
      "image/png": "[encoded data removed]",
      "text/plain": [
       "<Figure size 432x288 with 2 Axes>"
      ]
     },
     "metadata": {},
     "output_type": "display_data"
    }
   ],
   "source": [
    "cols = ['Age', 'Sex', 'SibSp', 'Parch', 'Pclass']\n",
    "corr = dataset[cols].corr()\n",
    "sns.heatmap(corr, cmap='BrBG', annot=True)"
   ]
  },
  {
   "cell_type": "markdown",
   "id": "a0b5072f-5742-4cce-9851-258a275ec3a6",
   "metadata": {},
   "source": [
    "상관 관계 히트맵은 나이는 성별과 관련이 없고 Pclass, SibSp, Parch와 음의 상관 관계를 보임을 보인다.\n",
    "\n",
    "나이의 증가는 부모/자식의 수의 증가와 같다. 하지만 일반적으로 음의 상관\n",
    "\n",
    "그래서 SibSp, Parch, Pclass를 이용해서 age의 결측 값을 처리한다.\n",
    "\n",
    "나이를 Pclass, Parch, SibSp에 따라 유사한 행의 최빈값으로 이뤄진다\n"
   ]
  },
  {
   "cell_type": "code",
   "execution_count": 37,
   "id": "1db8460c-3e80-42aa-b1fd-b54b888db108",
   "metadata": {},
   "outputs": [],
   "source": [
    "### Filling Age with the median age of similar rows according to Pclass, Parch and SibSp\n",
    "\n",
    "index_NaN_age = list(dataset[dataset['Age'].isnull()].index)\n",
    "\n",
    "for i in index_NaN_age :\n",
    "    age_med = dataset[\"Age\"].median()\n",
    "    age_pred = dataset[\"Age\"][((dataset['SibSp'] == dataset.iloc[i][\"SibSp\"])\n",
    "                               & (dataset['Parch'] == dataset.iloc[i][\"Parch\"])\n",
    "                               & (dataset['Pclass'] == dataset.iloc[i][\"Pclass\"]))\n",
    "                             ].median()\n",
    "    if not np.isnan(age_pred) :\n",
    "        dataset['Age'].iloc[i] = age_pred\n",
    "    else :\n",
    "        dataset['Age'].iloc[i] = age_med\n"
   ]
  },
  {
   "cell_type": "code",
   "execution_count": 38,
   "id": "76f9dd0d-55a7-4363-9649-edb4aa25942d",
   "metadata": {},
   "outputs": [
    {
     "data": {
      "text/plain": [
       "<seaborn.axisgrid.FacetGrid at 0x16072d88370>"
      ]
     },
     "execution_count": 38,
     "metadata": {},
     "output_type": "execute_result"
    },
    {
     "data": {
      "image/png": "[encoded data removed]",
      "text/plain": [
       "<Figure size 360x360 with 1 Axes>"
      ]
     },
     "metadata": {},
     "output_type": "display_data"
    },
    {
     "data": {
      "image/png": "[encoded data removed]",
      "text/plain": [
       "<Figure size 360x360 with 1 Axes>"
      ]
     },
     "metadata": {},
     "output_type": "display_data"
    }
   ],
   "source": [
    "sns.factorplot(x='Survived', y='Age', data=train, kind='box')\n",
    "sns.factorplot(x='Survived', y='Age', data=train, kind='violin')"
   ]
  },
  {
   "cell_type": "markdown",
   "id": "5c9402c9-796c-4169-95a5-a2754a2ee3b1",
   "metadata": {},
   "source": [
    "- 관측결과:\n",
    "\n",
    "생존한 하위 집단과 생존하지 않은 하위 집단에서 연령의 중앙값 사이에는 차이가 없습니다.\n",
    "\n",
    "그러나 생존한 승객의 바이올린 플롯에서 우리는 여전히 아주 어린 승객의 생존율이 더 높다는 것을 알 수 있습니다."
   ]
  },
  {
   "cell_type": "markdown",
   "id": "100e9e6b-49f3-4d55-bea9-1a7a4aae7d52",
   "metadata": {},
   "source": [
    "### 5. Feature engineering\n",
    "5.1 Name/Title"
   ]
  },
  {
   "cell_type": "code",
   "execution_count": 39,
   "id": "c93941ab-d5c7-42e3-8cc2-5342cbe2556a",
   "metadata": {},
   "outputs": [
    {
     "data": {
      "text/plain": [
       "0                              Braund, Mr. Owen Harris\n",
       "1    Cumings, Mrs. John Bradley (Florence Briggs Th...\n",
       "2                               Heikkinen, Miss. Laina\n",
       "3         Futrelle, Mrs. Jacques Heath (Lily May Peel)\n",
       "4                             Allen, Mr. William Henry\n",
       "Name: Name, dtype: object"
      ]
     },
     "execution_count": 39,
     "metadata": {},
     "output_type": "execute_result"
    }
   ],
   "source": [
    "dataset['Name'].head()"
   ]
  },
  {
   "cell_type": "code",
   "execution_count": 40,
   "id": "93606f39-af49-491d-ae5a-41d4911ddc13",
   "metadata": {},
   "outputs": [
    {
     "data": {
      "text/html": [
       "<div>\n",
       "<style scoped>\n",
       "    .dataframe tbody tr th:only-of-type {\n",
       "        vertical-align: middle;\n",
       "    }\n",
       "\n",
       "    .dataframe tbody tr th {\n",
       "        vertical-align: top;\n",
       "    }\n",
       "\n",
       "    .dataframe thead th {\n",
       "        text-align: right;\n",
       "    }\n",
       "</style>\n",
       "<table border=\"1\" class=\"dataframe\">\n",
       "  <thead>\n",
       "    <tr style=\"text-align: right;\">\n",
       "      <th></th>\n",
       "      <th>PassengerId</th>\n",
       "      <th>Survived</th>\n",
       "      <th>Pclass</th>\n",
       "      <th>Name</th>\n",
       "      <th>Sex</th>\n",
       "      <th>Age</th>\n",
       "      <th>SibSp</th>\n",
       "      <th>Parch</th>\n",
       "      <th>Ticket</th>\n",
       "      <th>Fare</th>\n",
       "      <th>Cabin</th>\n",
       "      <th>Embarked</th>\n",
       "      <th>Title</th>\n",
       "    </tr>\n",
       "  </thead>\n",
       "  <tbody>\n",
       "    <tr>\n",
       "      <th>0</th>\n",
       "      <td>1</td>\n",
       "      <td>0.0</td>\n",
       "      <td>3</td>\n",
       "      <td>Braund, Mr. Owen Harris</td>\n",
       "      <td>0</td>\n",
       "      <td>22.0</td>\n",
       "      <td>1</td>\n",
       "      <td>0</td>\n",
       "      <td>A/5 21171</td>\n",
       "      <td>7.2500</td>\n",
       "      <td>NaN</td>\n",
       "      <td>S</td>\n",
       "      <td>Mr</td>\n",
       "    </tr>\n",
       "    <tr>\n",
       "      <th>1</th>\n",
       "      <td>2</td>\n",
       "      <td>1.0</td>\n",
       "      <td>1</td>\n",
       "      <td>Cumings, Mrs. John Bradley (Florence Briggs Th...</td>\n",
       "      <td>1</td>\n",
       "      <td>38.0</td>\n",
       "      <td>1</td>\n",
       "      <td>0</td>\n",
       "      <td>PC 17599</td>\n",
       "      <td>71.2833</td>\n",
       "      <td>C85</td>\n",
       "      <td>C</td>\n",
       "      <td>Mrs</td>\n",
       "    </tr>\n",
       "    <tr>\n",
       "      <th>2</th>\n",
       "      <td>3</td>\n",
       "      <td>1.0</td>\n",
       "      <td>3</td>\n",
       "      <td>Heikkinen, Miss. Laina</td>\n",
       "      <td>1</td>\n",
       "      <td>26.0</td>\n",
       "      <td>0</td>\n",
       "      <td>0</td>\n",
       "      <td>STON/O2. 3101282</td>\n",
       "      <td>7.9250</td>\n",
       "      <td>NaN</td>\n",
       "      <td>S</td>\n",
       "      <td>Miss</td>\n",
       "    </tr>\n",
       "    <tr>\n",
       "      <th>3</th>\n",
       "      <td>4</td>\n",
       "      <td>1.0</td>\n",
       "      <td>1</td>\n",
       "      <td>Futrelle, Mrs. Jacques Heath (Lily May Peel)</td>\n",
       "      <td>1</td>\n",
       "      <td>35.0</td>\n",
       "      <td>1</td>\n",
       "      <td>0</td>\n",
       "      <td>113803</td>\n",
       "      <td>53.1000</td>\n",
       "      <td>C123</td>\n",
       "      <td>S</td>\n",
       "      <td>Mrs</td>\n",
       "    </tr>\n",
       "    <tr>\n",
       "      <th>4</th>\n",
       "      <td>5</td>\n",
       "      <td>0.0</td>\n",
       "      <td>3</td>\n",
       "      <td>Allen, Mr. William Henry</td>\n",
       "      <td>0</td>\n",
       "      <td>35.0</td>\n",
       "      <td>0</td>\n",
       "      <td>0</td>\n",
       "      <td>373450</td>\n",
       "      <td>8.0500</td>\n",
       "      <td>NaN</td>\n",
       "      <td>S</td>\n",
       "      <td>Mr</td>\n",
       "    </tr>\n",
       "  </tbody>\n",
       "</table>\n",
       "</div>"
      ],
      "text/plain": [
       "   PassengerId  Survived  Pclass  \\\n",
       "0            1       0.0       3   \n",
       "1            2       1.0       1   \n",
       "2            3       1.0       3   \n",
       "3            4       1.0       1   \n",
       "4            5       0.0       3   \n",
       "\n",
       "                                                Name  Sex   Age  SibSp  Parch  \\\n",
       "0                            Braund, Mr. Owen Harris    0  22.0      1      0   \n",
       "1  Cumings, Mrs. John Bradley (Florence Briggs Th...    1  38.0      1      0   \n",
       "2                             Heikkinen, Miss. Laina    1  26.0      0      0   \n",
       "3       Futrelle, Mrs. Jacques Heath (Lily May Peel)    1  35.0      1      0   \n",
       "4                           Allen, Mr. William Henry    0  35.0      0      0   \n",
       "\n",
       "             Ticket     Fare Cabin Embarked Title  \n",
       "0         A/5 21171   7.2500   NaN        S    Mr  \n",
       "1          PC 17599  71.2833   C85        C   Mrs  \n",
       "2  STON/O2. 3101282   7.9250   NaN        S  Miss  \n",
       "3            113803  53.1000  C123        S   Mrs  \n",
       "4            373450   8.0500   NaN        S    Mr  "
      ]
     },
     "execution_count": 40,
     "metadata": {},
     "output_type": "execute_result"
    }
   ],
   "source": [
    "# Get title from Name\n",
    "dataset_title = []\n",
    "for i in dataset['Name']:\n",
    "    dataset_title.append(i.split(',')[1].split('.')[0].strip())\n",
    "    \n",
    "dataset['Title'] = pd.Series(dataset_title)\n",
    "dataset.head()"
   ]
  },
  {
   "cell_type": "code",
   "execution_count": 41,
   "id": "d699e0a4-3362-45b1-8906-2bbc668b8962",
   "metadata": {},
   "outputs": [
    {
     "data": {
      "image/png": "[encoded data removed]",
      "text/plain": [
       "<Figure size 432x288 with 1 Axes>"
      ]
     },
     "metadata": {},
     "output_type": "display_data"
    }
   ],
   "source": [
    "g = sns.countplot('Title', data=dataset)\n",
    "g = plt.setp(g.get_xticklabels(), rotation=45)"
   ]
  },
  {
   "cell_type": "code",
   "execution_count": 42,
   "id": "66d7179f-7d51-413c-b159-adbcdc014d82",
   "metadata": {},
   "outputs": [
    {
     "data": {
      "text/plain": [
       "Mr              753\n",
       "Miss            255\n",
       "Mrs             197\n",
       "Master           60\n",
       "Rev               8\n",
       "Dr                8\n",
       "Col               4\n",
       "Mlle              2\n",
       "Major             2\n",
       "Ms                2\n",
       "Lady              1\n",
       "Sir               1\n",
       "Mme               1\n",
       "Don               1\n",
       "Capt              1\n",
       "the Countess      1\n",
       "Jonkheer          1\n",
       "Dona              1\n",
       "Name: Title, dtype: int64"
      ]
     },
     "execution_count": 42,
     "metadata": {},
     "output_type": "execute_result"
    }
   ],
   "source": [
    "dataset['Title'].value_counts()"
   ]
  },
  {
   "cell_type": "code",
   "execution_count": 43,
   "id": "6bc92089-4950-42c7-a951-1fa995538322",
   "metadata": {},
   "outputs": [
    {
     "data": {
      "text/plain": [
       "Index(['Mr', 'Miss', 'Mrs', 'Master', 'Rev', 'Dr', 'Col', 'Mlle', 'Major',\n",
       "       'Ms', 'Lady', 'Sir', 'Mme', 'Don', 'Capt', 'the Countess', 'Jonkheer',\n",
       "       'Dona'],\n",
       "      dtype='object')"
      ]
     },
     "execution_count": 43,
     "metadata": {},
     "output_type": "execute_result"
    }
   ],
   "source": [
    "dataset['Title'].value_counts().keys()"
   ]
  },
  {
   "cell_type": "code",
   "execution_count": 44,
   "id": "0034e921-9bff-4ea9-a1fc-8091f5727a80",
   "metadata": {},
   "outputs": [
    {
     "data": {
      "text/plain": [
       "<AxesSubplot:xlabel='Title', ylabel='count'>"
      ]
     },
     "execution_count": 44,
     "metadata": {},
     "output_type": "execute_result"
    },
    {
     "data": {
      "image/png": "[encoded data removed]",
      "text/plain": [
       "<Figure size 432x288 with 1 Axes>"
      ]
     },
     "metadata": {},
     "output_type": "display_data"
    }
   ],
   "source": [
    "# 총 17개 있는데 대부분 몇개 없음 따라서 묶어주자\n",
    "dataset[\"Title\"] = dataset[\"Title\"].replace(['Lady', 'the Countess','Countess','Capt', 'Col','Don', 'Dr', 'Major', 'Rev', 'Sir', 'Jonkheer', 'Dona'], 'Rare')\n",
    "dataset[\"Title\"] = dataset[\"Title\"].map({\"Master\":0, \"Miss\":1, \"Ms\" : 1 , \"Mme\":1, \"Mlle\":1, \"Mrs\":1, \"Mr\":2, \"Rare\":3})\n",
    "dataset[\"Title\"] = dataset[\"Title\"].astype(int)\n",
    "\n",
    "sns.countplot(dataset['Title'])\n"
   ]
  },
  {
   "cell_type": "code",
   "execution_count": 45,
   "id": "9f179a7e-6e95-47a5-a7ef-a47afa775ac6",
   "metadata": {},
   "outputs": [
    {
     "data": {
      "image/png": "[encoded data removed]",
      "text/plain": [
       "<Figure size 360x360 with 1 Axes>"
      ]
     },
     "metadata": {},
     "output_type": "display_data"
    }
   ],
   "source": [
    "sns.factorplot(x='Title', y='Survived', data=dataset, kind='bar')\n",
    "plt.ylabel('Survival probabilty')\n",
    "plt.show()"
   ]
  },
  {
   "cell_type": "code",
   "execution_count": 46,
   "id": "8ddd2a30-2dfa-4774-8cd4-ee7a727fbefb",
   "metadata": {},
   "outputs": [],
   "source": [
    "dataset.drop(labels='Name', axis=1, inplace=True)"
   ]
  },
  {
   "cell_type": "markdown",
   "id": "20bf8622-c961-499c-8999-47c25feb5340",
   "metadata": {},
   "source": [
    "### 5.2 Family size\n",
    "앞의 eda를 통해 가족의 규모가 커질수로 생존확률이 떨어지는 것을 알 수 있습니다. 그래서 나는 \"Fize\"(family size)라는 변수를 만들어서 SibSp, Parch and 1을 더한 값을 넣을 것이다"
   ]
  },
  {
   "cell_type": "code",
   "execution_count": 47,
   "id": "04a502c2-721a-4a61-bd82-372e3cd27bc6",
   "metadata": {},
   "outputs": [
    {
     "data": {
      "image/png": "[encoded data removed]",
      "text/plain": [
       "<Figure size 432x288 with 2 Axes>"
      ]
     },
     "metadata": {},
     "output_type": "display_data"
    }
   ],
   "source": [
    "dataset['Fsize'] = dataset['SibSp']+dataset['Parch']+1\n",
    "f, ax = plt.subplots(1,2)\n",
    "sns.pointplot(y='Survived', x='Fsize', data=dataset, ax=ax[0])\n",
    "sns.barplot(y='Survived', x='Fsize', data=dataset,  ax=ax[1])\n",
    "plt.show()"
   ]
  },
  {
   "cell_type": "markdown",
   "id": "71dc0b86-b095-47ac-a55b-f28fdda2e0ff",
   "metadata": {},
   "source": [
    "가족의 규모는 중요한 역할을 하여 생존확룰은 큰 가족이면 더 떨어질 것이다.\n",
    "그런데 아예 혼자 온 사람은 오히려 생존확률이 1~3보다 떨어지니 그것도 따로 고려.\n",
    "이에 따라 4가지 카테고리고 나누어준다"
   ]
  },
  {
   "cell_type": "code",
   "execution_count": 48,
   "id": "2adc3568-5264-4a29-9390-f8bbcb310d99",
   "metadata": {},
   "outputs": [
    {
     "data": {
      "text/html": [
       "<div>\n",
       "<style scoped>\n",
       "    .dataframe tbody tr th:only-of-type {\n",
       "        vertical-align: middle;\n",
       "    }\n",
       "\n",
       "    .dataframe tbody tr th {\n",
       "        vertical-align: top;\n",
       "    }\n",
       "\n",
       "    .dataframe thead th {\n",
       "        text-align: right;\n",
       "    }\n",
       "</style>\n",
       "<table border=\"1\" class=\"dataframe\">\n",
       "  <thead>\n",
       "    <tr style=\"text-align: right;\">\n",
       "      <th></th>\n",
       "      <th>PassengerId</th>\n",
       "      <th>Survived</th>\n",
       "      <th>Pclass</th>\n",
       "      <th>Sex</th>\n",
       "      <th>Age</th>\n",
       "      <th>SibSp</th>\n",
       "      <th>Parch</th>\n",
       "      <th>Ticket</th>\n",
       "      <th>Fare</th>\n",
       "      <th>Cabin</th>\n",
       "      <th>Embarked</th>\n",
       "      <th>Title</th>\n",
       "      <th>Fsize</th>\n",
       "      <th>Single</th>\n",
       "      <th>SmallF</th>\n",
       "      <th>MedF</th>\n",
       "      <th>LargeF</th>\n",
       "    </tr>\n",
       "  </thead>\n",
       "  <tbody>\n",
       "    <tr>\n",
       "      <th>0</th>\n",
       "      <td>1</td>\n",
       "      <td>0.0</td>\n",
       "      <td>3</td>\n",
       "      <td>0</td>\n",
       "      <td>22.0</td>\n",
       "      <td>1</td>\n",
       "      <td>0</td>\n",
       "      <td>A/5 21171</td>\n",
       "      <td>7.2500</td>\n",
       "      <td>NaN</td>\n",
       "      <td>S</td>\n",
       "      <td>2</td>\n",
       "      <td>2</td>\n",
       "      <td>0</td>\n",
       "      <td>1</td>\n",
       "      <td>0</td>\n",
       "      <td>0</td>\n",
       "    </tr>\n",
       "    <tr>\n",
       "      <th>1</th>\n",
       "      <td>2</td>\n",
       "      <td>1.0</td>\n",
       "      <td>1</td>\n",
       "      <td>1</td>\n",
       "      <td>38.0</td>\n",
       "      <td>1</td>\n",
       "      <td>0</td>\n",
       "      <td>PC 17599</td>\n",
       "      <td>71.2833</td>\n",
       "      <td>C85</td>\n",
       "      <td>C</td>\n",
       "      <td>1</td>\n",
       "      <td>2</td>\n",
       "      <td>0</td>\n",
       "      <td>1</td>\n",
       "      <td>0</td>\n",
       "      <td>0</td>\n",
       "    </tr>\n",
       "    <tr>\n",
       "      <th>2</th>\n",
       "      <td>3</td>\n",
       "      <td>1.0</td>\n",
       "      <td>3</td>\n",
       "      <td>1</td>\n",
       "      <td>26.0</td>\n",
       "      <td>0</td>\n",
       "      <td>0</td>\n",
       "      <td>STON/O2. 3101282</td>\n",
       "      <td>7.9250</td>\n",
       "      <td>NaN</td>\n",
       "      <td>S</td>\n",
       "      <td>1</td>\n",
       "      <td>1</td>\n",
       "      <td>1</td>\n",
       "      <td>0</td>\n",
       "      <td>0</td>\n",
       "      <td>0</td>\n",
       "    </tr>\n",
       "    <tr>\n",
       "      <th>3</th>\n",
       "      <td>4</td>\n",
       "      <td>1.0</td>\n",
       "      <td>1</td>\n",
       "      <td>1</td>\n",
       "      <td>35.0</td>\n",
       "      <td>1</td>\n",
       "      <td>0</td>\n",
       "      <td>113803</td>\n",
       "      <td>53.1000</td>\n",
       "      <td>C123</td>\n",
       "      <td>S</td>\n",
       "      <td>1</td>\n",
       "      <td>2</td>\n",
       "      <td>0</td>\n",
       "      <td>1</td>\n",
       "      <td>0</td>\n",
       "      <td>0</td>\n",
       "    </tr>\n",
       "    <tr>\n",
       "      <th>4</th>\n",
       "      <td>5</td>\n",
       "      <td>0.0</td>\n",
       "      <td>3</td>\n",
       "      <td>0</td>\n",
       "      <td>35.0</td>\n",
       "      <td>0</td>\n",
       "      <td>0</td>\n",
       "      <td>373450</td>\n",
       "      <td>8.0500</td>\n",
       "      <td>NaN</td>\n",
       "      <td>S</td>\n",
       "      <td>2</td>\n",
       "      <td>1</td>\n",
       "      <td>1</td>\n",
       "      <td>0</td>\n",
       "      <td>0</td>\n",
       "      <td>0</td>\n",
       "    </tr>\n",
       "  </tbody>\n",
       "</table>\n",
       "</div>"
      ],
      "text/plain": [
       "   PassengerId  Survived  Pclass  Sex   Age  SibSp  Parch            Ticket  \\\n",
       "0            1       0.0       3    0  22.0      1      0         A/5 21171   \n",
       "1            2       1.0       1    1  38.0      1      0          PC 17599   \n",
       "2            3       1.0       3    1  26.0      0      0  STON/O2. 3101282   \n",
       "3            4       1.0       1    1  35.0      1      0            113803   \n",
       "4            5       0.0       3    0  35.0      0      0            373450   \n",
       "\n",
       "      Fare Cabin Embarked  Title  Fsize  Single  SmallF  MedF  LargeF  \n",
       "0   7.2500   NaN        S      2      2       0       1     0       0  \n",
       "1  71.2833   C85        C      1      2       0       1     0       0  \n",
       "2   7.9250   NaN        S      1      1       1       0     0       0  \n",
       "3  53.1000  C123        S      1      2       0       1     0       0  \n",
       "4   8.0500   NaN        S      2      1       1       0     0       0  "
      ]
     },
     "execution_count": 48,
     "metadata": {},
     "output_type": "execute_result"
    }
   ],
   "source": [
    "dataset['Single'] = dataset['Fsize'].map(lambda s: 1 if s==1 else 0)\n",
    "dataset['SmallF'] = dataset['Fsize'].map(lambda s: 1 if s==2 else 0)\n",
    "dataset['MedF'] = dataset['Fsize'].map(lambda s: 1 if 3<=s<=4 else 0)\n",
    "dataset['LargeF'] = dataset['Fsize'].map(lambda s: 1 if s>=5 else 0)\n",
    "dataset.head()"
   ]
  },
  {
   "cell_type": "code",
   "execution_count": 49,
   "id": "39ade43e-61da-411b-accc-00ce905c8cdc",
   "metadata": {},
   "outputs": [
    {
     "data": {
      "text/plain": [
       "Text(0.5, 1.0, 'Survival vs Large Famliy')"
      ]
     },
     "execution_count": 49,
     "metadata": {},
     "output_type": "execute_result"
    },
    {
     "data": {
      "image/png": "[encoded data removed]",
      "text/plain": [
       "<Figure size 720x720 with 4 Axes>"
      ]
     },
     "metadata": {},
     "output_type": "display_data"
    }
   ],
   "source": [
    "f, ax = plt.subplots(2,2, figsize=(10,10))\n",
    "sns.barplot('Survived', 'Single', data=dataset, ax=ax[0,0])\n",
    "ax[0,0].set_title('Survival vs Single Famliy')\n",
    "\n",
    "sns.barplot('Survived', 'SmallF', data=dataset, ax=ax[0,1])\n",
    "ax[0,1].set_title('Survival vs Small Famliy')\n",
    "\n",
    "sns.barplot('Survived', 'MedF', data=dataset, ax=ax[1,0])\n",
    "ax[1,0].set_title('Survival vs Med Family')\n",
    "                \n",
    "sns.barplot('Survived', 'LargeF', data=dataset, ax=ax[1,1])\n",
    "ax[1,1].set_title('Survival vs Large Famliy')"
   ]
  },
  {
   "cell_type": "markdown",
   "id": "bbf8ccfc-91b1-44c9-92a1-f260e2bde97c",
   "metadata": {},
   "source": [
    "Medium families have more chance to survive than single passenger and large families."
   ]
  },
  {
   "cell_type": "code",
   "execution_count": 50,
   "id": "1ed831e3-d73f-4014-94fa-3b697a9b3734",
   "metadata": {},
   "outputs": [
    {
     "data": {
      "text/html": [
       "<div>\n",
       "<style scoped>\n",
       "    .dataframe tbody tr th:only-of-type {\n",
       "        vertical-align: middle;\n",
       "    }\n",
       "\n",
       "    .dataframe tbody tr th {\n",
       "        vertical-align: top;\n",
       "    }\n",
       "\n",
       "    .dataframe thead th {\n",
       "        text-align: right;\n",
       "    }\n",
       "</style>\n",
       "<table border=\"1\" class=\"dataframe\">\n",
       "  <thead>\n",
       "    <tr style=\"text-align: right;\">\n",
       "      <th></th>\n",
       "      <th>PassengerId</th>\n",
       "      <th>Survived</th>\n",
       "      <th>Pclass</th>\n",
       "      <th>Sex</th>\n",
       "      <th>Age</th>\n",
       "      <th>SibSp</th>\n",
       "      <th>Parch</th>\n",
       "      <th>Ticket</th>\n",
       "      <th>Fare</th>\n",
       "      <th>Cabin</th>\n",
       "      <th>...</th>\n",
       "      <th>SmallF</th>\n",
       "      <th>MedF</th>\n",
       "      <th>LargeF</th>\n",
       "      <th>Title_0</th>\n",
       "      <th>Title_1</th>\n",
       "      <th>Title_2</th>\n",
       "      <th>Title_3</th>\n",
       "      <th>Em_C</th>\n",
       "      <th>Em_Q</th>\n",
       "      <th>Em_S</th>\n",
       "    </tr>\n",
       "  </thead>\n",
       "  <tbody>\n",
       "    <tr>\n",
       "      <th>0</th>\n",
       "      <td>1</td>\n",
       "      <td>0.0</td>\n",
       "      <td>3</td>\n",
       "      <td>0</td>\n",
       "      <td>22.0</td>\n",
       "      <td>1</td>\n",
       "      <td>0</td>\n",
       "      <td>A/5 21171</td>\n",
       "      <td>7.2500</td>\n",
       "      <td>NaN</td>\n",
       "      <td>...</td>\n",
       "      <td>1</td>\n",
       "      <td>0</td>\n",
       "      <td>0</td>\n",
       "      <td>0</td>\n",
       "      <td>0</td>\n",
       "      <td>1</td>\n",
       "      <td>0</td>\n",
       "      <td>0</td>\n",
       "      <td>0</td>\n",
       "      <td>1</td>\n",
       "    </tr>\n",
       "    <tr>\n",
       "      <th>1</th>\n",
       "      <td>2</td>\n",
       "      <td>1.0</td>\n",
       "      <td>1</td>\n",
       "      <td>1</td>\n",
       "      <td>38.0</td>\n",
       "      <td>1</td>\n",
       "      <td>0</td>\n",
       "      <td>PC 17599</td>\n",
       "      <td>71.2833</td>\n",
       "      <td>C85</td>\n",
       "      <td>...</td>\n",
       "      <td>1</td>\n",
       "      <td>0</td>\n",
       "      <td>0</td>\n",
       "      <td>0</td>\n",
       "      <td>1</td>\n",
       "      <td>0</td>\n",
       "      <td>0</td>\n",
       "      <td>1</td>\n",
       "      <td>0</td>\n",
       "      <td>0</td>\n",
       "    </tr>\n",
       "    <tr>\n",
       "      <th>2</th>\n",
       "      <td>3</td>\n",
       "      <td>1.0</td>\n",
       "      <td>3</td>\n",
       "      <td>1</td>\n",
       "      <td>26.0</td>\n",
       "      <td>0</td>\n",
       "      <td>0</td>\n",
       "      <td>STON/O2. 3101282</td>\n",
       "      <td>7.9250</td>\n",
       "      <td>NaN</td>\n",
       "      <td>...</td>\n",
       "      <td>0</td>\n",
       "      <td>0</td>\n",
       "      <td>0</td>\n",
       "      <td>0</td>\n",
       "      <td>1</td>\n",
       "      <td>0</td>\n",
       "      <td>0</td>\n",
       "      <td>0</td>\n",
       "      <td>0</td>\n",
       "      <td>1</td>\n",
       "    </tr>\n",
       "    <tr>\n",
       "      <th>3</th>\n",
       "      <td>4</td>\n",
       "      <td>1.0</td>\n",
       "      <td>1</td>\n",
       "      <td>1</td>\n",
       "      <td>35.0</td>\n",
       "      <td>1</td>\n",
       "      <td>0</td>\n",
       "      <td>113803</td>\n",
       "      <td>53.1000</td>\n",
       "      <td>C123</td>\n",
       "      <td>...</td>\n",
       "      <td>1</td>\n",
       "      <td>0</td>\n",
       "      <td>0</td>\n",
       "      <td>0</td>\n",
       "      <td>1</td>\n",
       "      <td>0</td>\n",
       "      <td>0</td>\n",
       "      <td>0</td>\n",
       "      <td>0</td>\n",
       "      <td>1</td>\n",
       "    </tr>\n",
       "    <tr>\n",
       "      <th>4</th>\n",
       "      <td>5</td>\n",
       "      <td>0.0</td>\n",
       "      <td>3</td>\n",
       "      <td>0</td>\n",
       "      <td>35.0</td>\n",
       "      <td>0</td>\n",
       "      <td>0</td>\n",
       "      <td>373450</td>\n",
       "      <td>8.0500</td>\n",
       "      <td>NaN</td>\n",
       "      <td>...</td>\n",
       "      <td>0</td>\n",
       "      <td>0</td>\n",
       "      <td>0</td>\n",
       "      <td>0</td>\n",
       "      <td>0</td>\n",
       "      <td>1</td>\n",
       "      <td>0</td>\n",
       "      <td>0</td>\n",
       "      <td>0</td>\n",
       "      <td>1</td>\n",
       "    </tr>\n",
       "  </tbody>\n",
       "</table>\n",
       "<p>5 rows × 22 columns</p>\n",
       "</div>"
      ],
      "text/plain": [
       "   PassengerId  Survived  Pclass  Sex   Age  SibSp  Parch            Ticket  \\\n",
       "0            1       0.0       3    0  22.0      1      0         A/5 21171   \n",
       "1            2       1.0       1    1  38.0      1      0          PC 17599   \n",
       "2            3       1.0       3    1  26.0      0      0  STON/O2. 3101282   \n",
       "3            4       1.0       1    1  35.0      1      0            113803   \n",
       "4            5       0.0       3    0  35.0      0      0            373450   \n",
       "\n",
       "      Fare Cabin  ...  SmallF  MedF  LargeF  Title_0  Title_1  Title_2  \\\n",
       "0   7.2500   NaN  ...       1     0       0        0        0        1   \n",
       "1  71.2833   C85  ...       1     0       0        0        1        0   \n",
       "2   7.9250   NaN  ...       0     0       0        0        1        0   \n",
       "3  53.1000  C123  ...       1     0       0        0        1        0   \n",
       "4   8.0500   NaN  ...       0     0       0        0        0        1   \n",
       "\n",
       "   Title_3  Em_C  Em_Q  Em_S  \n",
       "0        0     0     0     1  \n",
       "1        0     1     0     0  \n",
       "2        0     0     0     1  \n",
       "3        0     0     0     1  \n",
       "4        0     0     0     1  \n",
       "\n",
       "[5 rows x 22 columns]"
      ]
     },
     "execution_count": 50,
     "metadata": {},
     "output_type": "execute_result"
    }
   ],
   "source": [
    "dataset = pd.get_dummies(dataset, columns = ['Title'])\n",
    "dataset = pd.get_dummies(dataset, columns = [\"Embarked\"], prefix=\"Em\")\n",
    "dataset.head()"
   ]
  },
  {
   "cell_type": "markdown",
   "id": "a0e0b247-be28-4c1d-b2f3-01c703abef8d",
   "metadata": {},
   "source": [
    "5.3 Cabin"
   ]
  },
  {
   "cell_type": "code",
   "execution_count": 51,
   "id": "563cd0af-64a6-43f2-a01a-76cb74927514",
   "metadata": {},
   "outputs": [
    {
     "data": {
      "text/plain": [
       "0        NaN\n",
       "1        C85\n",
       "2        NaN\n",
       "3       C123\n",
       "4        NaN\n",
       "        ... \n",
       "1294     NaN\n",
       "1295    C105\n",
       "1296     NaN\n",
       "1297     NaN\n",
       "1298     NaN\n",
       "Name: Cabin, Length: 1299, dtype: object"
      ]
     },
     "execution_count": 51,
     "metadata": {},
     "output_type": "execute_result"
    }
   ],
   "source": [
    "dataset['Cabin']"
   ]
  },
  {
   "cell_type": "code",
   "execution_count": 52,
   "id": "72b63f35-5cc7-4a9f-b056-9fe32ee1834c",
   "metadata": {},
   "outputs": [
    {
     "data": {
      "text/plain": [
       "count     292\n",
       "unique    186\n",
       "top        G6\n",
       "freq        5\n",
       "Name: Cabin, dtype: object"
      ]
     },
     "execution_count": 52,
     "metadata": {},
     "output_type": "execute_result"
    }
   ],
   "source": [
    "dataset['Cabin'].describe()"
   ]
  },
  {
   "cell_type": "code",
   "execution_count": 53,
   "id": "da057b45-cb1c-4f9c-a961-2907806532ab",
   "metadata": {},
   "outputs": [
    {
     "data": {
      "text/plain": [
       "1007"
      ]
     },
     "execution_count": 53,
     "metadata": {},
     "output_type": "execute_result"
    }
   ],
   "source": [
    "dataset['Cabin'].isnull().sum()"
   ]
  },
  {
   "cell_type": "code",
   "execution_count": 54,
   "id": "525cc5ec-0829-4079-96e7-07d13e053b62",
   "metadata": {},
   "outputs": [
    {
     "data": {
      "image/png": "[encoded data removed]",
      "text/plain": [
       "<Figure size 432x288 with 1 Axes>"
      ]
     },
     "metadata": {},
     "output_type": "display_data"
    }
   ],
   "source": [
    "cabin = []\n",
    "for i in dataset['Cabin']:\n",
    "    if not pd.isnull(i):\n",
    "        cabin.append(i[0])\n",
    "    else:\n",
    "        cabin.append('X')\n",
    "cabin= pd.Series(cabin)\n",
    "sns.countplot(cabin, order=['A','B','C','D','E','F','G','T','X'])\n",
    "dataset['Cabin']=cabin"
   ]
  },
  {
   "cell_type": "code",
   "execution_count": 55,
   "id": "41e28182-3b52-42e4-8b6d-2b0b09c0fa5c",
   "metadata": {},
   "outputs": [
    {
     "data": {
      "image/png": "[encoded data removed]",
      "text/plain": [
       "<Figure size 360x360 with 1 Axes>"
      ]
     },
     "metadata": {},
     "output_type": "display_data"
    }
   ],
   "source": [
    "sns.factorplot(y=\"Survived\",x=\"Cabin\",data=dataset,kind=\"bar\",order=['A','B','C','D','E','F','G','T','X'])\n",
    "plt.show()"
   ]
  },
  {
   "cell_type": "code",
   "execution_count": 56,
   "id": "3e643dd6-c152-4937-a6d2-aa96fc4593f1",
   "metadata": {},
   "outputs": [
    {
     "data": {
      "text/html": [
       "<div>\n",
       "<style scoped>\n",
       "    .dataframe tbody tr th:only-of-type {\n",
       "        vertical-align: middle;\n",
       "    }\n",
       "\n",
       "    .dataframe tbody tr th {\n",
       "        vertical-align: top;\n",
       "    }\n",
       "\n",
       "    .dataframe thead th {\n",
       "        text-align: right;\n",
       "    }\n",
       "</style>\n",
       "<table border=\"1\" class=\"dataframe\">\n",
       "  <thead>\n",
       "    <tr style=\"text-align: right;\">\n",
       "      <th></th>\n",
       "      <th>PassengerId</th>\n",
       "      <th>Survived</th>\n",
       "      <th>Pclass</th>\n",
       "      <th>Sex</th>\n",
       "      <th>Age</th>\n",
       "      <th>SibSp</th>\n",
       "      <th>Parch</th>\n",
       "      <th>Ticket</th>\n",
       "      <th>Fare</th>\n",
       "      <th>Fsize</th>\n",
       "      <th>...</th>\n",
       "      <th>Em_S</th>\n",
       "      <th>Cabin_A</th>\n",
       "      <th>Cabin_B</th>\n",
       "      <th>Cabin_C</th>\n",
       "      <th>Cabin_D</th>\n",
       "      <th>Cabin_E</th>\n",
       "      <th>Cabin_F</th>\n",
       "      <th>Cabin_G</th>\n",
       "      <th>Cabin_T</th>\n",
       "      <th>Cabin_X</th>\n",
       "    </tr>\n",
       "  </thead>\n",
       "  <tbody>\n",
       "    <tr>\n",
       "      <th>0</th>\n",
       "      <td>1</td>\n",
       "      <td>0.0</td>\n",
       "      <td>3</td>\n",
       "      <td>0</td>\n",
       "      <td>22.0</td>\n",
       "      <td>1</td>\n",
       "      <td>0</td>\n",
       "      <td>A/5 21171</td>\n",
       "      <td>7.2500</td>\n",
       "      <td>2</td>\n",
       "      <td>...</td>\n",
       "      <td>1</td>\n",
       "      <td>0</td>\n",
       "      <td>0</td>\n",
       "      <td>0</td>\n",
       "      <td>0</td>\n",
       "      <td>0</td>\n",
       "      <td>0</td>\n",
       "      <td>0</td>\n",
       "      <td>0</td>\n",
       "      <td>1</td>\n",
       "    </tr>\n",
       "    <tr>\n",
       "      <th>1</th>\n",
       "      <td>2</td>\n",
       "      <td>1.0</td>\n",
       "      <td>1</td>\n",
       "      <td>1</td>\n",
       "      <td>38.0</td>\n",
       "      <td>1</td>\n",
       "      <td>0</td>\n",
       "      <td>PC 17599</td>\n",
       "      <td>71.2833</td>\n",
       "      <td>2</td>\n",
       "      <td>...</td>\n",
       "      <td>0</td>\n",
       "      <td>0</td>\n",
       "      <td>0</td>\n",
       "      <td>1</td>\n",
       "      <td>0</td>\n",
       "      <td>0</td>\n",
       "      <td>0</td>\n",
       "      <td>0</td>\n",
       "      <td>0</td>\n",
       "      <td>0</td>\n",
       "    </tr>\n",
       "    <tr>\n",
       "      <th>2</th>\n",
       "      <td>3</td>\n",
       "      <td>1.0</td>\n",
       "      <td>3</td>\n",
       "      <td>1</td>\n",
       "      <td>26.0</td>\n",
       "      <td>0</td>\n",
       "      <td>0</td>\n",
       "      <td>STON/O2. 3101282</td>\n",
       "      <td>7.9250</td>\n",
       "      <td>1</td>\n",
       "      <td>...</td>\n",
       "      <td>1</td>\n",
       "      <td>0</td>\n",
       "      <td>0</td>\n",
       "      <td>0</td>\n",
       "      <td>0</td>\n",
       "      <td>0</td>\n",
       "      <td>0</td>\n",
       "      <td>0</td>\n",
       "      <td>0</td>\n",
       "      <td>1</td>\n",
       "    </tr>\n",
       "    <tr>\n",
       "      <th>3</th>\n",
       "      <td>4</td>\n",
       "      <td>1.0</td>\n",
       "      <td>1</td>\n",
       "      <td>1</td>\n",
       "      <td>35.0</td>\n",
       "      <td>1</td>\n",
       "      <td>0</td>\n",
       "      <td>113803</td>\n",
       "      <td>53.1000</td>\n",
       "      <td>2</td>\n",
       "      <td>...</td>\n",
       "      <td>1</td>\n",
       "      <td>0</td>\n",
       "      <td>0</td>\n",
       "      <td>1</td>\n",
       "      <td>0</td>\n",
       "      <td>0</td>\n",
       "      <td>0</td>\n",
       "      <td>0</td>\n",
       "      <td>0</td>\n",
       "      <td>0</td>\n",
       "    </tr>\n",
       "    <tr>\n",
       "      <th>4</th>\n",
       "      <td>5</td>\n",
       "      <td>0.0</td>\n",
       "      <td>3</td>\n",
       "      <td>0</td>\n",
       "      <td>35.0</td>\n",
       "      <td>0</td>\n",
       "      <td>0</td>\n",
       "      <td>373450</td>\n",
       "      <td>8.0500</td>\n",
       "      <td>1</td>\n",
       "      <td>...</td>\n",
       "      <td>1</td>\n",
       "      <td>0</td>\n",
       "      <td>0</td>\n",
       "      <td>0</td>\n",
       "      <td>0</td>\n",
       "      <td>0</td>\n",
       "      <td>0</td>\n",
       "      <td>0</td>\n",
       "      <td>0</td>\n",
       "      <td>1</td>\n",
       "    </tr>\n",
       "  </tbody>\n",
       "</table>\n",
       "<p>5 rows × 30 columns</p>\n",
       "</div>"
      ],
      "text/plain": [
       "   PassengerId  Survived  Pclass  Sex   Age  SibSp  Parch            Ticket  \\\n",
       "0            1       0.0       3    0  22.0      1      0         A/5 21171   \n",
       "1            2       1.0       1    1  38.0      1      0          PC 17599   \n",
       "2            3       1.0       3    1  26.0      0      0  STON/O2. 3101282   \n",
       "3            4       1.0       1    1  35.0      1      0            113803   \n",
       "4            5       0.0       3    0  35.0      0      0            373450   \n",
       "\n",
       "      Fare  Fsize  ...  Em_S  Cabin_A  Cabin_B  Cabin_C  Cabin_D  Cabin_E  \\\n",
       "0   7.2500      2  ...     1        0        0        0        0        0   \n",
       "1  71.2833      2  ...     0        0        0        1        0        0   \n",
       "2   7.9250      1  ...     1        0        0        0        0        0   \n",
       "3  53.1000      2  ...     1        0        0        1        0        0   \n",
       "4   8.0500      1  ...     1        0        0        0        0        0   \n",
       "\n",
       "   Cabin_F  Cabin_G  Cabin_T  Cabin_X  \n",
       "0        0        0        0        1  \n",
       "1        0        0        0        0  \n",
       "2        0        0        0        1  \n",
       "3        0        0        0        0  \n",
       "4        0        0        0        1  \n",
       "\n",
       "[5 rows x 30 columns]"
      ]
     },
     "execution_count": 56,
     "metadata": {},
     "output_type": "execute_result"
    }
   ],
   "source": [
    "dataset = pd.get_dummies(dataset, columns=['Cabin'], prefix='Cabin')\n",
    "dataset.head()"
   ]
  },
  {
   "cell_type": "markdown",
   "id": "6afeab7a-fa1c-44b4-aa88-1034258c6d1c",
   "metadata": {},
   "source": [
    "5.4 Ticket"
   ]
  },
  {
   "cell_type": "code",
   "execution_count": 57,
   "id": "8f31e026-e32c-49cd-b310-9e5766a78921",
   "metadata": {},
   "outputs": [
    {
     "data": {
      "text/plain": [
       "0           A/5 21171\n",
       "1            PC 17599\n",
       "2    STON/O2. 3101282\n",
       "3              113803\n",
       "4              373450\n",
       "Name: Ticket, dtype: object"
      ]
     },
     "execution_count": 57,
     "metadata": {},
     "output_type": "execute_result"
    }
   ],
   "source": [
    "dataset['Ticket'].head()"
   ]
  },
  {
   "cell_type": "code",
   "execution_count": 58,
   "id": "ce72de3a-2e40-43e6-8963-28495dcd5127",
   "metadata": {},
   "outputs": [
    {
     "data": {
      "text/plain": [
       "0        A5\n",
       "1        PC\n",
       "2    STONO2\n",
       "3         X\n",
       "4         X\n",
       "Name: Ticket, dtype: object"
      ]
     },
     "execution_count": 58,
     "metadata": {},
     "output_type": "execute_result"
    }
   ],
   "source": [
    "## Treat Ticket by extracting the ticket prefix. When there is no prefix it returns X. \n",
    "\n",
    "Ticket = []\n",
    "for i in list(dataset.Ticket):\n",
    "    if not i.isdigit() :\n",
    "        Ticket.append(i.replace(\".\",\"\").replace(\"/\",\"\").strip().split(' ')[0]) #Take prefix\n",
    "    else:\n",
    "        Ticket.append(\"X\")\n",
    "        \n",
    "dataset[\"Ticket\"] = Ticket\n",
    "dataset[\"Ticket\"].head()"
   ]
  },
  {
   "cell_type": "code",
   "execution_count": 59,
   "id": "b4c93dfb-c245-4e8d-ae92-280f322ca25b",
   "metadata": {},
   "outputs": [
    {
     "data": {
      "text/html": [
       "<div>\n",
       "<style scoped>\n",
       "    .dataframe tbody tr th:only-of-type {\n",
       "        vertical-align: middle;\n",
       "    }\n",
       "\n",
       "    .dataframe tbody tr th {\n",
       "        vertical-align: top;\n",
       "    }\n",
       "\n",
       "    .dataframe thead th {\n",
       "        text-align: right;\n",
       "    }\n",
       "</style>\n",
       "<table border=\"1\" class=\"dataframe\">\n",
       "  <thead>\n",
       "    <tr style=\"text-align: right;\">\n",
       "      <th></th>\n",
       "      <th>Survived</th>\n",
       "      <th>Sex</th>\n",
       "      <th>Age</th>\n",
       "      <th>SibSp</th>\n",
       "      <th>Parch</th>\n",
       "      <th>Fare</th>\n",
       "      <th>Fsize</th>\n",
       "      <th>Single</th>\n",
       "      <th>SmallF</th>\n",
       "      <th>MedF</th>\n",
       "      <th>...</th>\n",
       "      <th>T_STONO</th>\n",
       "      <th>T_STONO2</th>\n",
       "      <th>T_STONOQ</th>\n",
       "      <th>T_SWPP</th>\n",
       "      <th>T_WC</th>\n",
       "      <th>T_WEP</th>\n",
       "      <th>T_X</th>\n",
       "      <th>Pc_1</th>\n",
       "      <th>Pc_2</th>\n",
       "      <th>Pc_3</th>\n",
       "    </tr>\n",
       "  </thead>\n",
       "  <tbody>\n",
       "    <tr>\n",
       "      <th>0</th>\n",
       "      <td>0.0</td>\n",
       "      <td>0</td>\n",
       "      <td>22.0</td>\n",
       "      <td>1</td>\n",
       "      <td>0</td>\n",
       "      <td>7.2500</td>\n",
       "      <td>2</td>\n",
       "      <td>0</td>\n",
       "      <td>1</td>\n",
       "      <td>0</td>\n",
       "      <td>...</td>\n",
       "      <td>0</td>\n",
       "      <td>0</td>\n",
       "      <td>0</td>\n",
       "      <td>0</td>\n",
       "      <td>0</td>\n",
       "      <td>0</td>\n",
       "      <td>0</td>\n",
       "      <td>0</td>\n",
       "      <td>0</td>\n",
       "      <td>1</td>\n",
       "    </tr>\n",
       "    <tr>\n",
       "      <th>1</th>\n",
       "      <td>1.0</td>\n",
       "      <td>1</td>\n",
       "      <td>38.0</td>\n",
       "      <td>1</td>\n",
       "      <td>0</td>\n",
       "      <td>71.2833</td>\n",
       "      <td>2</td>\n",
       "      <td>0</td>\n",
       "      <td>1</td>\n",
       "      <td>0</td>\n",
       "      <td>...</td>\n",
       "      <td>0</td>\n",
       "      <td>0</td>\n",
       "      <td>0</td>\n",
       "      <td>0</td>\n",
       "      <td>0</td>\n",
       "      <td>0</td>\n",
       "      <td>0</td>\n",
       "      <td>1</td>\n",
       "      <td>0</td>\n",
       "      <td>0</td>\n",
       "    </tr>\n",
       "    <tr>\n",
       "      <th>2</th>\n",
       "      <td>1.0</td>\n",
       "      <td>1</td>\n",
       "      <td>26.0</td>\n",
       "      <td>0</td>\n",
       "      <td>0</td>\n",
       "      <td>7.9250</td>\n",
       "      <td>1</td>\n",
       "      <td>1</td>\n",
       "      <td>0</td>\n",
       "      <td>0</td>\n",
       "      <td>...</td>\n",
       "      <td>0</td>\n",
       "      <td>1</td>\n",
       "      <td>0</td>\n",
       "      <td>0</td>\n",
       "      <td>0</td>\n",
       "      <td>0</td>\n",
       "      <td>0</td>\n",
       "      <td>0</td>\n",
       "      <td>0</td>\n",
       "      <td>1</td>\n",
       "    </tr>\n",
       "    <tr>\n",
       "      <th>3</th>\n",
       "      <td>1.0</td>\n",
       "      <td>1</td>\n",
       "      <td>35.0</td>\n",
       "      <td>1</td>\n",
       "      <td>0</td>\n",
       "      <td>53.1000</td>\n",
       "      <td>2</td>\n",
       "      <td>0</td>\n",
       "      <td>1</td>\n",
       "      <td>0</td>\n",
       "      <td>...</td>\n",
       "      <td>0</td>\n",
       "      <td>0</td>\n",
       "      <td>0</td>\n",
       "      <td>0</td>\n",
       "      <td>0</td>\n",
       "      <td>0</td>\n",
       "      <td>1</td>\n",
       "      <td>1</td>\n",
       "      <td>0</td>\n",
       "      <td>0</td>\n",
       "    </tr>\n",
       "    <tr>\n",
       "      <th>4</th>\n",
       "      <td>0.0</td>\n",
       "      <td>0</td>\n",
       "      <td>35.0</td>\n",
       "      <td>0</td>\n",
       "      <td>0</td>\n",
       "      <td>8.0500</td>\n",
       "      <td>1</td>\n",
       "      <td>1</td>\n",
       "      <td>0</td>\n",
       "      <td>0</td>\n",
       "      <td>...</td>\n",
       "      <td>0</td>\n",
       "      <td>0</td>\n",
       "      <td>0</td>\n",
       "      <td>0</td>\n",
       "      <td>0</td>\n",
       "      <td>0</td>\n",
       "      <td>1</td>\n",
       "      <td>0</td>\n",
       "      <td>0</td>\n",
       "      <td>1</td>\n",
       "    </tr>\n",
       "  </tbody>\n",
       "</table>\n",
       "<p>5 rows × 67 columns</p>\n",
       "</div>"
      ],
      "text/plain": [
       "   Survived  Sex   Age  SibSp  Parch     Fare  Fsize  Single  SmallF  MedF  \\\n",
       "0       0.0    0  22.0      1      0   7.2500      2       0       1     0   \n",
       "1       1.0    1  38.0      1      0  71.2833      2       0       1     0   \n",
       "2       1.0    1  26.0      0      0   7.9250      1       1       0     0   \n",
       "3       1.0    1  35.0      1      0  53.1000      2       0       1     0   \n",
       "4       0.0    0  35.0      0      0   8.0500      1       1       0     0   \n",
       "\n",
       "   ...  T_STONO  T_STONO2  T_STONOQ  T_SWPP  T_WC  T_WEP  T_X  Pc_1  Pc_2  \\\n",
       "0  ...        0         0         0       0     0      0    0     0     0   \n",
       "1  ...        0         0         0       0     0      0    0     1     0   \n",
       "2  ...        0         1         0       0     0      0    0     0     0   \n",
       "3  ...        0         0         0       0     0      0    1     1     0   \n",
       "4  ...        0         0         0       0     0      0    1     0     0   \n",
       "\n",
       "   Pc_3  \n",
       "0     1  \n",
       "1     0  \n",
       "2     1  \n",
       "3     0  \n",
       "4     1  \n",
       "\n",
       "[5 rows x 67 columns]"
      ]
     },
     "execution_count": 59,
     "metadata": {},
     "output_type": "execute_result"
    }
   ],
   "source": [
    "dataset = pd.get_dummies(dataset, columns = [\"Ticket\"], prefix=\"T\")\n",
    "# Create categorical values for Pclass\n",
    "dataset[\"Pclass\"] = dataset[\"Pclass\"].astype(\"category\")\n",
    "dataset = pd.get_dummies(dataset, columns = [\"Pclass\"],prefix=\"Pc\")\n",
    "# Drop useless variables \n",
    "dataset.drop(labels = [\"PassengerId\"], axis = 1, inplace = True)\n",
    "dataset.head()"
   ]
  },
  {
   "cell_type": "markdown",
   "id": "56d8a27c-ba4f-436f-9c0b-d23b9432a0c0",
   "metadata": {},
   "source": [
    "### 6. Modeling"
   ]
  },
  {
   "cell_type": "code",
   "execution_count": 60,
   "id": "e92c89f3-b9e2-4aeb-b273-d94e39af3059",
   "metadata": {},
   "outputs": [],
   "source": [
    "train = dataset[:train_len]\n",
    "test = dataset[train_len:]\n",
    "test.drop(labels=['Survived'], axis=1, inplace=True)\n"
   ]
  },
  {
   "cell_type": "code",
   "execution_count": 61,
   "id": "4aa605a8-31ab-4e9b-aaba-68e7a9530797",
   "metadata": {},
   "outputs": [],
   "source": [
    "train['Survived'] = train['Survived'].astype(int)\n",
    "y_train = train['Survived']\n",
    "x_train = train.drop(labels=['Survived'], axis=1)"
   ]
  },
  {
   "cell_type": "code",
   "execution_count": 62,
   "id": "fa6e93c0-ad6c-42a4-ad8a-1c8309bdea11",
   "metadata": {},
   "outputs": [
    {
     "data": {
      "text/plain": [
       "((881, 66), (881,))"
      ]
     },
     "execution_count": 62,
     "metadata": {},
     "output_type": "execute_result"
    }
   ],
   "source": [
    "x_train.shape, y_train.shape"
   ]
  },
  {
   "cell_type": "markdown",
   "id": "50e4cc0c-4f6d-43c2-9360-b752b501bcb9",
   "metadata": {},
   "source": [
    "### 6.1 Simple Modeling\n",
    "- 6.1.1 Cross validation models\n",
    "1) SVC\n",
    "2) Decision Tree\n",
    "3) AdaBoost\n",
    "4) Extra Trees\n",
    "5) Gradient Boosting\n",
    "6) Multiple layer perceptron\n",
    "7) KNN\n",
    "8) Logistic regression\n",
    "9) Linear Discriminant Analysis"
   ]
  },
  {
   "cell_type": "code",
   "execution_count": 77,
   "id": "5ae3ebcd-794f-4ab8-8a94-3c2f0039a95a",
   "metadata": {},
   "outputs": [
    {
     "data": {
      "text/plain": [
       "StratifiedKFold(n_splits=10, random_state=None, shuffle=False)"
      ]
     },
     "execution_count": 77,
     "metadata": {},
     "output_type": "execute_result"
    }
   ],
   "source": [
    "from sklearn.model_selection import StratifiedKFold\n",
    "kfold = StratifiedKFold(n_splits=10)\n",
    "kfold"
   ]
  },
  {
   "cell_type": "code",
   "execution_count": 96,
   "id": "5604516b-1dcc-4826-b65d-7ff9d9218853",
   "metadata": {},
   "outputs": [],
   "source": [
    "from sklearn.svm import SVC\n",
    "from sklearn.tree import DecisionTreeClassifier\n",
    "from sklearn.ensemble import AdaBoostClassifier\n",
    "from sklearn.ensemble import RandomForestClassifier\n",
    "from sklearn.ensemble import ExtraTreesClassifier\n",
    "from sklearn.ensemble import GradientBoostingClassifier\n",
    "from sklearn.neural_network import MLPClassifier\n",
    "from sklearn.neighbors import KNeighborsClassifier\n",
    "from sklearn.linear_model import LogisticRegression\n",
    "from sklearn.discriminant_analysis import LinearDiscriminantAnalysis\n",
    "random_state=2\n",
    "classifiers=[]\n",
    "classifiers.append(SVC(random_state=random_state))\n",
    "classifiers.append(DecisionTreeClassifier(random_state=random_state))\n",
    "classifiers.append(AdaBoostClassifier(base_estimator=DecisionTreeClassifier(random_state=random_state),\n",
    "                                    random_state=random_state, learning_rate=0.1))\n",
    "classifiers.append(RandomForestClassifier(random_state=random_state))\n",
    "classifiers.append(ExtraTreesClassifier(random_state=random_state))\n",
    "classifiers.append(GradientBoostingClassifier(random_state=random_state))\n",
    "classifiers.append(MLPClassifier(random_state=random_state))\n",
    "classifiers.append(KNeighborsClassifier())\n",
    "classifiers.append(LogisticRegression(random_state=random_state))\n",
    "classifiers.append(LinearDiscriminantAnalysis())"
   ]
  },
  {
   "cell_type": "code",
   "execution_count": 97,
   "id": "232dcb7b-e74b-46d0-8ef8-1aa453ae6b3b",
   "metadata": {},
   "outputs": [],
   "source": [
    "from sklearn.model_selection import cross_val_score\n",
    "\n",
    "cv_results = []\n",
    "for classifier in classifiers:\n",
    "    cv_results.append(cross_val_score(classifier, x_train, y_train, cv=kfold, n_jobs=-1, scoring='accuracy'))"
   ]
  },
  {
   "cell_type": "code",
   "execution_count": 98,
   "id": "c5259ddb-9084-432a-abc1-fc4c2da749dc",
   "metadata": {},
   "outputs": [],
   "source": [
    "cv_means = []\n",
    "cv_std = []\n",
    "for cv_result in cv_results:\n",
    "    cv_means.append(cv_result.mean())\n",
    "    cv_std.append(cv_result.std())"
   ]
  },
  {
   "cell_type": "code",
   "execution_count": 99,
   "id": "9bc4f1d2-5e79-4c9c-b5a3-13d938966b83",
   "metadata": {},
   "outputs": [
    {
     "data": {
      "text/plain": [
       "10"
      ]
     },
     "execution_count": 99,
     "metadata": {},
     "output_type": "execute_result"
    }
   ],
   "source": [
    "len(classifiers)"
   ]
  },
  {
   "cell_type": "code",
   "execution_count": 100,
   "id": "e1e3b570-4917-4ba0-9283-0c7a670461a8",
   "metadata": {},
   "outputs": [
    {
     "data": {
      "text/html": [
       "<div>\n",
       "<style scoped>\n",
       "    .dataframe tbody tr th:only-of-type {\n",
       "        vertical-align: middle;\n",
       "    }\n",
       "\n",
       "    .dataframe tbody tr th {\n",
       "        vertical-align: top;\n",
       "    }\n",
       "\n",
       "    .dataframe thead th {\n",
       "        text-align: right;\n",
       "    }\n",
       "</style>\n",
       "<table border=\"1\" class=\"dataframe\">\n",
       "  <thead>\n",
       "    <tr style=\"text-align: right;\">\n",
       "      <th></th>\n",
       "      <th>CrossValMeans</th>\n",
       "      <th>CrossValerrors</th>\n",
       "      <th>Algorithms</th>\n",
       "    </tr>\n",
       "  </thead>\n",
       "  <tbody>\n",
       "    <tr>\n",
       "      <th>0</th>\n",
       "      <td>0.684525</td>\n",
       "      <td>0.050946</td>\n",
       "      <td>SVC</td>\n",
       "    </tr>\n",
       "    <tr>\n",
       "      <th>1</th>\n",
       "      <td>0.802592</td>\n",
       "      <td>0.037380</td>\n",
       "      <td>DecisionTree</td>\n",
       "    </tr>\n",
       "    <tr>\n",
       "      <th>2</th>\n",
       "      <td>0.799170</td>\n",
       "      <td>0.052417</td>\n",
       "      <td>AdaBoost</td>\n",
       "    </tr>\n",
       "    <tr>\n",
       "      <th>3</th>\n",
       "      <td>0.801392</td>\n",
       "      <td>0.047049</td>\n",
       "      <td>RandomForest</td>\n",
       "    </tr>\n",
       "    <tr>\n",
       "      <th>4</th>\n",
       "      <td>0.805950</td>\n",
       "      <td>0.048891</td>\n",
       "      <td>ExtraTrees</td>\n",
       "    </tr>\n",
       "    <tr>\n",
       "      <th>5</th>\n",
       "      <td>0.827464</td>\n",
       "      <td>0.041550</td>\n",
       "      <td>GradientBoosting</td>\n",
       "    </tr>\n",
       "    <tr>\n",
       "      <th>6</th>\n",
       "      <td>0.813841</td>\n",
       "      <td>0.037444</td>\n",
       "      <td>MultipleLayerPerceptron</td>\n",
       "    </tr>\n",
       "    <tr>\n",
       "      <th>7</th>\n",
       "      <td>0.731014</td>\n",
       "      <td>0.036793</td>\n",
       "      <td>KNeighboors</td>\n",
       "    </tr>\n",
       "    <tr>\n",
       "      <th>8</th>\n",
       "      <td>0.825204</td>\n",
       "      <td>0.036330</td>\n",
       "      <td>LogisticRegression</td>\n",
       "    </tr>\n",
       "    <tr>\n",
       "      <th>9</th>\n",
       "      <td>0.826328</td>\n",
       "      <td>0.037728</td>\n",
       "      <td>LinearDiscriminantAnalysis</td>\n",
       "    </tr>\n",
       "  </tbody>\n",
       "</table>\n",
       "</div>"
      ],
      "text/plain": [
       "   CrossValMeans  CrossValerrors                  Algorithms\n",
       "0       0.684525        0.050946                         SVC\n",
       "1       0.802592        0.037380                DecisionTree\n",
       "2       0.799170        0.052417                    AdaBoost\n",
       "3       0.801392        0.047049                RandomForest\n",
       "4       0.805950        0.048891                  ExtraTrees\n",
       "5       0.827464        0.041550            GradientBoosting\n",
       "6       0.813841        0.037444     MultipleLayerPerceptron\n",
       "7       0.731014        0.036793                 KNeighboors\n",
       "8       0.825204        0.036330          LogisticRegression\n",
       "9       0.826328        0.037728  LinearDiscriminantAnalysis"
      ]
     },
     "execution_count": 100,
     "metadata": {},
     "output_type": "execute_result"
    }
   ],
   "source": [
    "cv_res = pd.DataFrame({\n",
    "    'CrossValMeans': cv_means,\n",
    "    'CrossValerrors':cv_std,\n",
    "    'Algorithms':[\"SVC\",\"DecisionTree\",\"AdaBoost\",\n",
    "\"RandomForest\",\"ExtraTrees\",\"GradientBoosting\",\"MultipleLayerPerceptron\",\"KNeighboors\",\"LogisticRegression\",\"LinearDiscriminantAnalysis\"]\n",
    "})\n",
    "cv_res"
   ]
  },
  {
   "cell_type": "code",
   "execution_count": 113,
   "id": "43ca2d32-922d-4328-bbff-6e2297684bf9",
   "metadata": {},
   "outputs": [
    {
     "data": {
      "image/png": "[encoded data removed]",
      "text/plain": [
       "<Figure size 432x288 with 1 Axes>"
      ]
     },
     "metadata": {},
     "output_type": "display_data"
    }
   ],
   "source": [
    "sns.barplot(x='CrossValMeans', y='Algorithms', data=cv_res, orient ='h', **{'xerr':cv_std})\n",
    "plt.title(\"Mean Accuracy using 10fold Cross Validation\")\n",
    "plt.xlabel('Mean Accuracy')\n",
    "plt.show()"
   ]
  },
  {
   "cell_type": "markdown",
   "id": "80d330ef-328f-465a-8900-2a9e339198ef",
   "metadata": {},
   "source": [
    "I decided to choose the MultipleLayerPerceptron, LogisticRegression, GradientBoosting and LinearDiscriminantAnalysis classifiers for the ensemble modeling."
   ]
  },
  {
   "cell_type": "markdown",
   "id": "9e0a063d-270a-44ce-927f-96dfa03ae73b",
   "metadata": {},
   "source": [
    "### 6.1.2 Hyperparameter Tuning for best models\n",
    "Grid search optimization을 이용해서 MultipleLayerPerceptron, LogisticRegression, GradientBoosting and RandomForest parameter를 조정해 성능을 향상시키자"
   ]
  },
  {
   "cell_type": "code",
   "execution_count": 144,
   "id": "9c6a6ed5-e020-4187-af66-058de6e1f9cf",
   "metadata": {},
   "outputs": [],
   "source": [
    "from sklearn.model_selection import GridSearchCV\n",
    "kfold = StratifiedKFold(n_splits=5, shuffle=True, random_state=random_state)"
   ]
  },
  {
   "cell_type": "code",
   "execution_count": 155,
   "id": "42ea872b-9b68-44be-8d50-a88780aa9eb7",
   "metadata": {},
   "outputs": [
    {
     "name": "stdout",
     "output_type": "stream",
     "text": [
      "Fitting 5 folds for each of 216 candidates, totalling 1080 fits\n",
      "The best is MLPClassifier(activation='logistic', batch_size=32, early_stopping=True,\n",
      "              hidden_layer_sizes=(64, 128, 64), learning_rate='adaptive')\n",
      "The score is 0.8195364663585002\n"
     ]
    }
   ],
   "source": [
    "MLP_params = {\n",
    "    'batch_size':[32],\n",
    "    'hidden_layer_sizes':[(64,64,64), (64,128,64),(128,128,128)],\n",
    "    'activation':['logistic', 'tanh', 'relu'], \n",
    "    'solver':['tanh','adam'],\n",
    "    'alpha':[1e-4, 1e-3], # model penalty \n",
    "    'learning_rate':['constant','adaptive'],\n",
    "    'max_iter':[100, 200, 300],\n",
    "    \n",
    "}\n",
    "# model\n",
    "MLP = MLPClassifier(early_stopping=True)\n",
    "gridMLP = GridSearchCV(estimator=MLP, param_grid=MLP_params, cv=kfold, \n",
    "                       scoring='accuracy', n_jobs=-1, verbose=1)\n",
    "gridMLP.fit(x_train, y_train)\n",
    "print(\"The best is\", gridMLP.best_estimator_)\n",
    "print(\"The score is\", gridMLP.best_score_)\n",
    "# 0.813841"
   ]
  },
  {
   "cell_type": "code",
   "execution_count": 159,
   "id": "0c86a318-0c75-482e-81b6-f64fedccd9c7",
   "metadata": {},
   "outputs": [
    {
     "name": "stdout",
     "output_type": "stream",
     "text": [
      "Fitting 5 folds for each of 20 candidates, totalling 100 fits\n",
      "The best is LogisticRegression(C=10)\n",
      "The score is 0.8217835130970723\n"
     ]
    }
   ],
   "source": [
    "LR_params={\n",
    "    'C':[10,5,1,0.1,0.001],\n",
    "    'penalty':['none', 'l1','l2','elasticnet']\n",
    "}\n",
    "LR = LogisticRegression()\n",
    "gridLR = GridSearchCV(estimator=LR, param_grid=LR_params, cv=kfold, \n",
    "                      scoring='accuracy', n_jobs=-1,verbose=1)\n",
    "gridLR.fit(x_train, y_train)\n",
    "print(\"The best is\", gridLR.best_estimator_)\n",
    "print(\"The score is\", gridLR.best_score_)\n",
    "# 0.825204 "
   ]
  },
  {
   "cell_type": "code",
   "execution_count": 162,
   "id": "7a68482a-3335-4d85-93ac-adecceac6de0",
   "metadata": {},
   "outputs": [
    {
     "name": "stdout",
     "output_type": "stream",
     "text": [
      "Fitting 5 folds for each of 27 candidates, totalling 135 fits\n",
      "The best is GradientBoostingClassifier(learning_rate=0.01, max_depth=5, n_estimators=200)\n",
      "The score is 0.8286081150487931\n"
     ]
    }
   ],
   "source": [
    "# learning_rate=0.1, n_estimators=100,max_depth=3, min_samples_split=2, min_samples_leaf=1, subsample=1,max_features='sqrt', random_state=10\n",
    "GBM_params={\n",
    "    'learning_rate':[0.1,0.01,0.001],\n",
    "    'n_estimators':[100,150,200],\n",
    "    'max_depth':[5, 7, 9],\n",
    "    'loss':['deviance']\n",
    "    \n",
    "}\n",
    "GBM = GradientBoostingClassifier()\n",
    "gridGBM = GridSearchCV(estimator=GBM, param_grid=GBM_params, cv=kfold,\n",
    "                      scoring='accuracy', n_jobs=-1, verbose=1)\n",
    "gridGBM.fit(x_train, y_train)\n",
    "\n",
    "print(\"The best is\", gridGBM.best_estimator_)\n",
    "print(\"The score is\", gridGBM.best_score_)\n",
    "# 0.827464 "
   ]
  },
  {
   "cell_type": "code",
   "execution_count": 164,
   "id": "0c9b67f8-b8d0-4ea3-b498-b2f72e20ccaa",
   "metadata": {},
   "outputs": [
    {
     "name": "stdout",
     "output_type": "stream",
     "text": [
      "Fitting 5 folds for each of 135 candidates, totalling 675 fits\n",
      "The best is RandomForestClassifier(max_depth=5, n_estimators=150)\n",
      "The score is 0.8331535695942476\n"
     ]
    }
   ],
   "source": [
    "RF_params = {\n",
    "    'n_estimators':[100, 150, 200],\n",
    "    'max_depth':[5, 7, 9],\n",
    "    'min_samples_split':[2,5,10],\n",
    "    'min_samples_leaf':[1,2,3,4,5] \n",
    "}\n",
    "RF = RandomForestClassifier()\n",
    "gridRF = GridSearchCV(estimator=RF, param_grid=RF_params, cv=kfold,\n",
    "                     scoring='accuracy', n_jobs=-1, verbose=1)\n",
    "gridRF.fit(x_train, y_train)\n",
    "\n",
    "print(\"The best is\", gridRF.best_estimator_)\n",
    "print(\"The score is\", gridRF.best_score_)\n",
    "# 0.801392 "
   ]
  },
  {
   "cell_type": "code",
   "execution_count": 182,
   "id": "bb496fb6-33a7-4ca7-ae13-b6f73e0ca243",
   "metadata": {},
   "outputs": [
    {
     "data": {
      "image/png": "[encoded data removed]",
      "text/plain": [
       "<Figure size 432x288 with 1 Axes>"
      ]
     },
     "metadata": {},
     "output_type": "display_data"
    },
    {
     "data": {
      "image/png": "[encoded data removed]",
      "text/plain": [
       "<Figure size 432x288 with 1 Axes>"
      ]
     },
     "metadata": {},
     "output_type": "display_data"
    },
    {
     "data": {
      "image/png": "[encoded data removed]",
      "text/plain": [
       "<Figure size 432x288 with 1 Axes>"
      ]
     },
     "metadata": {},
     "output_type": "display_data"
    },
    {
     "data": {
      "image/png": "[encoded data removed]",
      "text/plain": [
       "<Figure size 432x288 with 1 Axes>"
      ]
     },
     "metadata": {},
     "output_type": "display_data"
    }
   ],
   "source": [
    "from sklearn.model_selection import learning_curve\n",
    "\n",
    "\n",
    "def plot_learning_curve(estimator, title, x, y, kfold):\n",
    "    train_sizes, train_scores, test_scores = learning_curve(estimator.best_estimator_, x, y, cv=kfold, n_jobs=-1)\n",
    "\n",
    "    train_scores_mean = np.mean(train_scores, axis=1)\n",
    "    train_scores_std = np.std(train_scores, axis=1)\n",
    "    test_scores_mean = np.mean(test_scores, axis=1)\n",
    "    test_scores_std = np.std(test_scores, axis=1)\n",
    "\n",
    "    plt.plot(train_sizes, train_scores_mean, 'o-', color='red', label=\"Training score\")\n",
    "    plt.fill_between(train_sizes, train_scores_mean-train_scores_std, train_scores_mean+train_scores_std, alpha=0.1, color='red')\n",
    "    plt.plot(train_sizes, test_scores_mean, 'o-', color=\"green\", label=\"Cross-validation score\")\n",
    "    plt.fill_between(train_sizes, test_scores_mean-test_scores_std, test_scores_mean+test_scores_std, alpha=0.1, color='green')\n",
    "    \n",
    "    plt.title(title)\n",
    "    plt.xlabel('Training examples')\n",
    "    plt.ylabel('score')\n",
    "    plt.ylim([0.5,1])\n",
    "    plt.legend()\n",
    "    plt.show()\n",
    "\n",
    "    \n",
    "models = [gridMLP, gridLR, gridGBM, gridRF]\n",
    "titles = ['MLP', 'Logistic Regression', 'GBM', 'Random Forest']\n",
    "for i in range(4):\n",
    "    model = models[i]\n",
    "    title = titles[i]\n",
    "    plot_learning_curve(model, title, x_train, y_train, kfold)"
   ]
  }
 ],
 "metadata": {
  "kernelspec": {
   "display_name": "Python 3 (ipykernel)",
   "language": "python",
   "name": "python3"
  },
  "language_info": {
   "codemirror_mode": {
    "name": "ipython",
    "version": 3
   },
   "file_extension": ".py",
   "mimetype": "text/x-python",
   "name": "python",
   "nbconvert_exporter": "python",
   "pygments_lexer": "ipython3",
   "version": "3.9.7"
  }
 },
 "nbformat": 4,
 "nbformat_minor": 5
}
